{
 "cells": [
  {
   "cell_type": "markdown",
   "metadata": {},
   "source": [
    "# Exploration of PISA 2012 for German students\n",
    "## by Markus Stachl\n",
    "\n",
    "## Preliminary Wrangling\n",
    "\n",
    "> PISA is the OECD's Programme for International Student Assessment. PISA measures 15-year-olds’ ability to use their reading, mathematics and science knowledge and skills to meet real-life challenges.\n",
    "> The given dataset from the PISA database contains the full set of responses from individual students. The dataset is provided in an Excel-file. Other formats can be found on their website, https://www.oecd.org/pisa/data/.\n",
    "> The dataset contains extensive responses from participating students around the world. An explanation of all features gathered by the PISA 2012 study can be found on https://www.oecd.org/pisa/pisaproducts/PISA12_stu_codebook.pdf.\n",
    "> I will restrict the dataset to reponses from German students.\n"
   ]
  },
  {
   "cell_type": "code",
   "execution_count": 221,
   "metadata": {},
   "outputs": [],
   "source": [
    "# import all packages and set plots to be embedded inline\n",
    "import numpy as np\n",
    "import pandas as pd\n",
    "import matplotlib.pyplot as plt\n",
    "import seaborn as sb\n",
    "import io\n",
    "\n",
    "\n",
    "%matplotlib inline\n",
    "\n",
    "sb.set_palette(\"Paired\")\n",
    "color = sb.color_palette()[0]"
   ]
  },
  {
   "cell_type": "markdown",
   "metadata": {},
   "source": [
    "> Load in your dataset and describe its properties through the questions below.\n",
    "Try and motivate your exploration goals through this section."
   ]
  },
  {
   "cell_type": "code",
   "execution_count": 6,
   "metadata": {},
   "outputs": [
    {
     "name": "stderr",
     "output_type": "stream",
     "text": [
      "C:\\Users\\Lenovo\\Anaconda3\\envs\\py3.6\\lib\\site-packages\\IPython\\core\\interactiveshell.py:3072: DtypeWarning: Columns (15,16,17,21,22,23,24,25,26,30,31,36,37,45,65,123,155,156,157,158,159,160,161,162,163,164,165,166,167,168,169,170,171,284,285,286,287,288,289,290,291,292,293,294,295,296,297,298,299,300,301,302,303,307,308,309,310,311,312,313,314,315,316,317,318,319,320,321,322,323,324,325,326,327,328,329,330,331,332,333,334,335,336,337,338,339,340,341,342,343,344,345,346,347,348,349,350,351,352,353,354,355,356,357,376,377,378,379,380,381,382,383,384,385,386,387,388,389,390,391,392,393,394,395,396,397,398,399,400,401,402,403,475) have mixed types.Specify dtype option on import or set low_memory=False.\n",
      "  interactivity=interactivity, compiler=compiler, result=result)\n"
     ]
    }
   ],
   "source": [
    "file = io.open('../pisa2012data/pisa2012.csv', encoding='latin-1')\n",
    "df = pd.read_csv(file, index_col = 0)"
   ]
  },
  {
   "cell_type": "code",
   "execution_count": 7,
   "metadata": {},
   "outputs": [
    {
     "data": {
      "text/html": [
       "<div>\n",
       "<style scoped>\n",
       "    .dataframe tbody tr th:only-of-type {\n",
       "        vertical-align: middle;\n",
       "    }\n",
       "\n",
       "    .dataframe tbody tr th {\n",
       "        vertical-align: top;\n",
       "    }\n",
       "\n",
       "    .dataframe thead th {\n",
       "        text-align: right;\n",
       "    }\n",
       "</style>\n",
       "<table border=\"1\" class=\"dataframe\">\n",
       "  <thead>\n",
       "    <tr style=\"text-align: right;\">\n",
       "      <th></th>\n",
       "      <th>CNT</th>\n",
       "      <th>SUBNATIO</th>\n",
       "      <th>STRATUM</th>\n",
       "      <th>OECD</th>\n",
       "      <th>NC</th>\n",
       "      <th>SCHOOLID</th>\n",
       "      <th>STIDSTD</th>\n",
       "      <th>ST01Q01</th>\n",
       "      <th>ST02Q01</th>\n",
       "      <th>ST03Q01</th>\n",
       "      <th>...</th>\n",
       "      <th>W_FSTR75</th>\n",
       "      <th>W_FSTR76</th>\n",
       "      <th>W_FSTR77</th>\n",
       "      <th>W_FSTR78</th>\n",
       "      <th>W_FSTR79</th>\n",
       "      <th>W_FSTR80</th>\n",
       "      <th>WVARSTRR</th>\n",
       "      <th>VAR_UNIT</th>\n",
       "      <th>SENWGT_STU</th>\n",
       "      <th>VER_STU</th>\n",
       "    </tr>\n",
       "  </thead>\n",
       "  <tbody>\n",
       "    <tr>\n",
       "      <th>1</th>\n",
       "      <td>Albania</td>\n",
       "      <td>80000</td>\n",
       "      <td>ALB0006</td>\n",
       "      <td>Non-OECD</td>\n",
       "      <td>Albania</td>\n",
       "      <td>1</td>\n",
       "      <td>1</td>\n",
       "      <td>10</td>\n",
       "      <td>1.0</td>\n",
       "      <td>2</td>\n",
       "      <td>...</td>\n",
       "      <td>13.7954</td>\n",
       "      <td>13.9235</td>\n",
       "      <td>13.1249</td>\n",
       "      <td>13.1249</td>\n",
       "      <td>4.3389</td>\n",
       "      <td>13.0829</td>\n",
       "      <td>19</td>\n",
       "      <td>1</td>\n",
       "      <td>0.2098</td>\n",
       "      <td>22NOV13</td>\n",
       "    </tr>\n",
       "    <tr>\n",
       "      <th>2</th>\n",
       "      <td>Albania</td>\n",
       "      <td>80000</td>\n",
       "      <td>ALB0006</td>\n",
       "      <td>Non-OECD</td>\n",
       "      <td>Albania</td>\n",
       "      <td>1</td>\n",
       "      <td>2</td>\n",
       "      <td>10</td>\n",
       "      <td>1.0</td>\n",
       "      <td>2</td>\n",
       "      <td>...</td>\n",
       "      <td>13.7954</td>\n",
       "      <td>13.9235</td>\n",
       "      <td>13.1249</td>\n",
       "      <td>13.1249</td>\n",
       "      <td>4.3389</td>\n",
       "      <td>13.0829</td>\n",
       "      <td>19</td>\n",
       "      <td>1</td>\n",
       "      <td>0.2098</td>\n",
       "      <td>22NOV13</td>\n",
       "    </tr>\n",
       "    <tr>\n",
       "      <th>3</th>\n",
       "      <td>Albania</td>\n",
       "      <td>80000</td>\n",
       "      <td>ALB0006</td>\n",
       "      <td>Non-OECD</td>\n",
       "      <td>Albania</td>\n",
       "      <td>1</td>\n",
       "      <td>3</td>\n",
       "      <td>9</td>\n",
       "      <td>1.0</td>\n",
       "      <td>9</td>\n",
       "      <td>...</td>\n",
       "      <td>12.7307</td>\n",
       "      <td>12.7307</td>\n",
       "      <td>12.7307</td>\n",
       "      <td>12.7307</td>\n",
       "      <td>4.2436</td>\n",
       "      <td>12.7307</td>\n",
       "      <td>19</td>\n",
       "      <td>1</td>\n",
       "      <td>0.1999</td>\n",
       "      <td>22NOV13</td>\n",
       "    </tr>\n",
       "    <tr>\n",
       "      <th>4</th>\n",
       "      <td>Albania</td>\n",
       "      <td>80000</td>\n",
       "      <td>ALB0006</td>\n",
       "      <td>Non-OECD</td>\n",
       "      <td>Albania</td>\n",
       "      <td>1</td>\n",
       "      <td>4</td>\n",
       "      <td>9</td>\n",
       "      <td>1.0</td>\n",
       "      <td>8</td>\n",
       "      <td>...</td>\n",
       "      <td>12.7307</td>\n",
       "      <td>12.7307</td>\n",
       "      <td>12.7307</td>\n",
       "      <td>12.7307</td>\n",
       "      <td>4.2436</td>\n",
       "      <td>12.7307</td>\n",
       "      <td>19</td>\n",
       "      <td>1</td>\n",
       "      <td>0.1999</td>\n",
       "      <td>22NOV13</td>\n",
       "    </tr>\n",
       "    <tr>\n",
       "      <th>5</th>\n",
       "      <td>Albania</td>\n",
       "      <td>80000</td>\n",
       "      <td>ALB0006</td>\n",
       "      <td>Non-OECD</td>\n",
       "      <td>Albania</td>\n",
       "      <td>1</td>\n",
       "      <td>5</td>\n",
       "      <td>9</td>\n",
       "      <td>1.0</td>\n",
       "      <td>10</td>\n",
       "      <td>...</td>\n",
       "      <td>12.7307</td>\n",
       "      <td>12.7307</td>\n",
       "      <td>12.7307</td>\n",
       "      <td>12.7307</td>\n",
       "      <td>4.2436</td>\n",
       "      <td>12.7307</td>\n",
       "      <td>19</td>\n",
       "      <td>1</td>\n",
       "      <td>0.1999</td>\n",
       "      <td>22NOV13</td>\n",
       "    </tr>\n",
       "  </tbody>\n",
       "</table>\n",
       "<p>5 rows × 635 columns</p>\n",
       "</div>"
      ],
      "text/plain": [
       "       CNT  SUBNATIO  STRATUM      OECD       NC  SCHOOLID  STIDSTD  ST01Q01  \\\n",
       "1  Albania     80000  ALB0006  Non-OECD  Albania         1        1       10   \n",
       "2  Albania     80000  ALB0006  Non-OECD  Albania         1        2       10   \n",
       "3  Albania     80000  ALB0006  Non-OECD  Albania         1        3        9   \n",
       "4  Albania     80000  ALB0006  Non-OECD  Albania         1        4        9   \n",
       "5  Albania     80000  ALB0006  Non-OECD  Albania         1        5        9   \n",
       "\n",
       "   ST02Q01  ST03Q01  ...  W_FSTR75 W_FSTR76 W_FSTR77  W_FSTR78 W_FSTR79  \\\n",
       "1      1.0        2  ...   13.7954  13.9235  13.1249   13.1249   4.3389   \n",
       "2      1.0        2  ...   13.7954  13.9235  13.1249   13.1249   4.3389   \n",
       "3      1.0        9  ...   12.7307  12.7307  12.7307   12.7307   4.2436   \n",
       "4      1.0        8  ...   12.7307  12.7307  12.7307   12.7307   4.2436   \n",
       "5      1.0       10  ...   12.7307  12.7307  12.7307   12.7307   4.2436   \n",
       "\n",
       "  W_FSTR80 WVARSTRR VAR_UNIT SENWGT_STU  VER_STU  \n",
       "1  13.0829       19        1     0.2098  22NOV13  \n",
       "2  13.0829       19        1     0.2098  22NOV13  \n",
       "3  12.7307       19        1     0.1999  22NOV13  \n",
       "4  12.7307       19        1     0.1999  22NOV13  \n",
       "5  12.7307       19        1     0.1999  22NOV13  \n",
       "\n",
       "[5 rows x 635 columns]"
      ]
     },
     "execution_count": 7,
     "metadata": {},
     "output_type": "execute_result"
    }
   ],
   "source": [
    "df.head()"
   ]
  },
  {
   "cell_type": "code",
   "execution_count": 8,
   "metadata": {},
   "outputs": [
    {
     "data": {
      "text/plain": [
       "(485490, 635)"
      ]
     },
     "execution_count": 8,
     "metadata": {},
     "output_type": "execute_result"
    }
   ],
   "source": [
    "df.shape"
   ]
  },
  {
   "cell_type": "code",
   "execution_count": 9,
   "metadata": {},
   "outputs": [
    {
     "data": {
      "text/html": [
       "<div>\n",
       "<style scoped>\n",
       "    .dataframe tbody tr th:only-of-type {\n",
       "        vertical-align: middle;\n",
       "    }\n",
       "\n",
       "    .dataframe tbody tr th {\n",
       "        vertical-align: top;\n",
       "    }\n",
       "\n",
       "    .dataframe thead th {\n",
       "        text-align: right;\n",
       "    }\n",
       "</style>\n",
       "<table border=\"1\" class=\"dataframe\">\n",
       "  <thead>\n",
       "    <tr style=\"text-align: right;\">\n",
       "      <th></th>\n",
       "      <th>CNT</th>\n",
       "      <th>SUBNATIO</th>\n",
       "      <th>STRATUM</th>\n",
       "      <th>OECD</th>\n",
       "      <th>NC</th>\n",
       "      <th>SCHOOLID</th>\n",
       "      <th>STIDSTD</th>\n",
       "      <th>ST01Q01</th>\n",
       "      <th>ST02Q01</th>\n",
       "      <th>ST03Q01</th>\n",
       "      <th>...</th>\n",
       "      <th>W_FSTR75</th>\n",
       "      <th>W_FSTR76</th>\n",
       "      <th>W_FSTR77</th>\n",
       "      <th>W_FSTR78</th>\n",
       "      <th>W_FSTR79</th>\n",
       "      <th>W_FSTR80</th>\n",
       "      <th>WVARSTRR</th>\n",
       "      <th>VAR_UNIT</th>\n",
       "      <th>SENWGT_STU</th>\n",
       "      <th>VER_STU</th>\n",
       "    </tr>\n",
       "  </thead>\n",
       "  <tbody>\n",
       "    <tr>\n",
       "      <th>133994</th>\n",
       "      <td>Germany</td>\n",
       "      <td>2760000</td>\n",
       "      <td>DEU0109</td>\n",
       "      <td>OECD</td>\n",
       "      <td>Germany</td>\n",
       "      <td>40</td>\n",
       "      <td>893</td>\n",
       "      <td>8</td>\n",
       "      <td>3.0</td>\n",
       "      <td>2</td>\n",
       "      <td>...</td>\n",
       "      <td>90.7535</td>\n",
       "      <td>273.0898</td>\n",
       "      <td>279.0614</td>\n",
       "      <td>90.3940</td>\n",
       "      <td>87.2801</td>\n",
       "      <td>272.4067</td>\n",
       "      <td>44</td>\n",
       "      <td>1</td>\n",
       "      <td>0.2460</td>\n",
       "      <td>22NOV13</td>\n",
       "    </tr>\n",
       "    <tr>\n",
       "      <th>133240</th>\n",
       "      <td>Germany</td>\n",
       "      <td>2760000</td>\n",
       "      <td>DEU0106</td>\n",
       "      <td>OECD</td>\n",
       "      <td>Germany</td>\n",
       "      <td>6</td>\n",
       "      <td>139</td>\n",
       "      <td>10</td>\n",
       "      <td>9.0</td>\n",
       "      <td>3</td>\n",
       "      <td>...</td>\n",
       "      <td>254.2842</td>\n",
       "      <td>254.2842</td>\n",
       "      <td>254.2842</td>\n",
       "      <td>254.4373</td>\n",
       "      <td>254.4373</td>\n",
       "      <td>254.2842</td>\n",
       "      <td>10</td>\n",
       "      <td>2</td>\n",
       "      <td>0.2177</td>\n",
       "      <td>22NOV13</td>\n",
       "    </tr>\n",
       "    <tr>\n",
       "      <th>135297</th>\n",
       "      <td>Germany</td>\n",
       "      <td>2760000</td>\n",
       "      <td>DEU0101</td>\n",
       "      <td>OECD</td>\n",
       "      <td>Germany</td>\n",
       "      <td>100</td>\n",
       "      <td>2196</td>\n",
       "      <td>10</td>\n",
       "      <td>3.0</td>\n",
       "      <td>2</td>\n",
       "      <td>...</td>\n",
       "      <td>255.7152</td>\n",
       "      <td>235.0491</td>\n",
       "      <td>244.9256</td>\n",
       "      <td>246.6790</td>\n",
       "      <td>93.7452</td>\n",
       "      <td>95.8291</td>\n",
       "      <td>51</td>\n",
       "      <td>1</td>\n",
       "      <td>0.2336</td>\n",
       "      <td>22NOV13</td>\n",
       "    </tr>\n",
       "    <tr>\n",
       "      <th>136669</th>\n",
       "      <td>Germany</td>\n",
       "      <td>2760000</td>\n",
       "      <td>DEU0211</td>\n",
       "      <td>OECD</td>\n",
       "      <td>Germany</td>\n",
       "      <td>166</td>\n",
       "      <td>3568</td>\n",
       "      <td>10</td>\n",
       "      <td>4.0</td>\n",
       "      <td>7</td>\n",
       "      <td>...</td>\n",
       "      <td>75.0817</td>\n",
       "      <td>75.0817</td>\n",
       "      <td>75.0817</td>\n",
       "      <td>75.0817</td>\n",
       "      <td>225.2451</td>\n",
       "      <td>75.0817</td>\n",
       "      <td>50</td>\n",
       "      <td>1</td>\n",
       "      <td>0.1984</td>\n",
       "      <td>22NOV13</td>\n",
       "    </tr>\n",
       "    <tr>\n",
       "      <th>136771</th>\n",
       "      <td>Germany</td>\n",
       "      <td>2760000</td>\n",
       "      <td>DEU0101</td>\n",
       "      <td>OECD</td>\n",
       "      <td>Germany</td>\n",
       "      <td>170</td>\n",
       "      <td>3670</td>\n",
       "      <td>9</td>\n",
       "      <td>3.0</td>\n",
       "      <td>11</td>\n",
       "      <td>...</td>\n",
       "      <td>61.6511</td>\n",
       "      <td>176.4574</td>\n",
       "      <td>61.2907</td>\n",
       "      <td>185.1883</td>\n",
       "      <td>58.7198</td>\n",
       "      <td>176.5925</td>\n",
       "      <td>67</td>\n",
       "      <td>1</td>\n",
       "      <td>0.1590</td>\n",
       "      <td>22NOV13</td>\n",
       "    </tr>\n",
       "    <tr>\n",
       "      <th>133847</th>\n",
       "      <td>Germany</td>\n",
       "      <td>2760000</td>\n",
       "      <td>DEU0107</td>\n",
       "      <td>OECD</td>\n",
       "      <td>Germany</td>\n",
       "      <td>34</td>\n",
       "      <td>746</td>\n",
       "      <td>10</td>\n",
       "      <td>4.0</td>\n",
       "      <td>2</td>\n",
       "      <td>...</td>\n",
       "      <td>226.4160</td>\n",
       "      <td>78.9955</td>\n",
       "      <td>225.4060</td>\n",
       "      <td>78.9955</td>\n",
       "      <td>220.5255</td>\n",
       "      <td>222.1030</td>\n",
       "      <td>6</td>\n",
       "      <td>2</td>\n",
       "      <td>0.2024</td>\n",
       "      <td>22NOV13</td>\n",
       "    </tr>\n",
       "    <tr>\n",
       "      <th>133412</th>\n",
       "      <td>Germany</td>\n",
       "      <td>2760000</td>\n",
       "      <td>DEU0108</td>\n",
       "      <td>OECD</td>\n",
       "      <td>Germany</td>\n",
       "      <td>15</td>\n",
       "      <td>311</td>\n",
       "      <td>10</td>\n",
       "      <td>4.0</td>\n",
       "      <td>5</td>\n",
       "      <td>...</td>\n",
       "      <td>231.4330</td>\n",
       "      <td>43.9569</td>\n",
       "      <td>231.4330</td>\n",
       "      <td>231.4330</td>\n",
       "      <td>231.4330</td>\n",
       "      <td>231.4330</td>\n",
       "      <td>54</td>\n",
       "      <td>1</td>\n",
       "      <td>0.1873</td>\n",
       "      <td>22NOV13</td>\n",
       "    </tr>\n",
       "    <tr>\n",
       "      <th>136291</th>\n",
       "      <td>Germany</td>\n",
       "      <td>2760000</td>\n",
       "      <td>DEU0211</td>\n",
       "      <td>OECD</td>\n",
       "      <td>Germany</td>\n",
       "      <td>147</td>\n",
       "      <td>3190</td>\n",
       "      <td>10</td>\n",
       "      <td>10.0</td>\n",
       "      <td>6</td>\n",
       "      <td>...</td>\n",
       "      <td>82.8955</td>\n",
       "      <td>229.5921</td>\n",
       "      <td>69.8860</td>\n",
       "      <td>233.5075</td>\n",
       "      <td>69.8860</td>\n",
       "      <td>233.5075</td>\n",
       "      <td>67</td>\n",
       "      <td>1</td>\n",
       "      <td>0.1969</td>\n",
       "      <td>22NOV13</td>\n",
       "    </tr>\n",
       "    <tr>\n",
       "      <th>137290</th>\n",
       "      <td>Germany</td>\n",
       "      <td>2760000</td>\n",
       "      <td>DEU0215</td>\n",
       "      <td>OECD</td>\n",
       "      <td>Germany</td>\n",
       "      <td>194</td>\n",
       "      <td>4189</td>\n",
       "      <td>9</td>\n",
       "      <td>4.0</td>\n",
       "      <td>5</td>\n",
       "      <td>...</td>\n",
       "      <td>87.7921</td>\n",
       "      <td>263.3764</td>\n",
       "      <td>232.9660</td>\n",
       "      <td>87.7921</td>\n",
       "      <td>263.3764</td>\n",
       "      <td>232.9660</td>\n",
       "      <td>73</td>\n",
       "      <td>2</td>\n",
       "      <td>0.2176</td>\n",
       "      <td>22NOV13</td>\n",
       "    </tr>\n",
       "    <tr>\n",
       "      <th>135342</th>\n",
       "      <td>Germany</td>\n",
       "      <td>2760000</td>\n",
       "      <td>DEU0105</td>\n",
       "      <td>OECD</td>\n",
       "      <td>Germany</td>\n",
       "      <td>102</td>\n",
       "      <td>2241</td>\n",
       "      <td>11</td>\n",
       "      <td>4.0</td>\n",
       "      <td>8</td>\n",
       "      <td>...</td>\n",
       "      <td>100.5796</td>\n",
       "      <td>301.7388</td>\n",
       "      <td>301.7388</td>\n",
       "      <td>301.7388</td>\n",
       "      <td>301.7388</td>\n",
       "      <td>100.5796</td>\n",
       "      <td>78</td>\n",
       "      <td>1</td>\n",
       "      <td>0.2658</td>\n",
       "      <td>22NOV13</td>\n",
       "    </tr>\n",
       "  </tbody>\n",
       "</table>\n",
       "<p>10 rows × 635 columns</p>\n",
       "</div>"
      ],
      "text/plain": [
       "            CNT  SUBNATIO  STRATUM  OECD       NC  SCHOOLID  STIDSTD  ST01Q01  \\\n",
       "133994  Germany   2760000  DEU0109  OECD  Germany        40      893        8   \n",
       "133240  Germany   2760000  DEU0106  OECD  Germany         6      139       10   \n",
       "135297  Germany   2760000  DEU0101  OECD  Germany       100     2196       10   \n",
       "136669  Germany   2760000  DEU0211  OECD  Germany       166     3568       10   \n",
       "136771  Germany   2760000  DEU0101  OECD  Germany       170     3670        9   \n",
       "133847  Germany   2760000  DEU0107  OECD  Germany        34      746       10   \n",
       "133412  Germany   2760000  DEU0108  OECD  Germany        15      311       10   \n",
       "136291  Germany   2760000  DEU0211  OECD  Germany       147     3190       10   \n",
       "137290  Germany   2760000  DEU0215  OECD  Germany       194     4189        9   \n",
       "135342  Germany   2760000  DEU0105  OECD  Germany       102     2241       11   \n",
       "\n",
       "        ST02Q01  ST03Q01  ...  W_FSTR75  W_FSTR76  W_FSTR77  W_FSTR78  \\\n",
       "133994      3.0        2  ...   90.7535  273.0898  279.0614   90.3940   \n",
       "133240      9.0        3  ...  254.2842  254.2842  254.2842  254.4373   \n",
       "135297      3.0        2  ...  255.7152  235.0491  244.9256  246.6790   \n",
       "136669      4.0        7  ...   75.0817   75.0817   75.0817   75.0817   \n",
       "136771      3.0       11  ...   61.6511  176.4574   61.2907  185.1883   \n",
       "133847      4.0        2  ...  226.4160   78.9955  225.4060   78.9955   \n",
       "133412      4.0        5  ...  231.4330   43.9569  231.4330  231.4330   \n",
       "136291     10.0        6  ...   82.8955  229.5921   69.8860  233.5075   \n",
       "137290      4.0        5  ...   87.7921  263.3764  232.9660   87.7921   \n",
       "135342      4.0        8  ...  100.5796  301.7388  301.7388  301.7388   \n",
       "\n",
       "        W_FSTR79  W_FSTR80 WVARSTRR VAR_UNIT SENWGT_STU  VER_STU  \n",
       "133994   87.2801  272.4067       44        1     0.2460  22NOV13  \n",
       "133240  254.4373  254.2842       10        2     0.2177  22NOV13  \n",
       "135297   93.7452   95.8291       51        1     0.2336  22NOV13  \n",
       "136669  225.2451   75.0817       50        1     0.1984  22NOV13  \n",
       "136771   58.7198  176.5925       67        1     0.1590  22NOV13  \n",
       "133847  220.5255  222.1030        6        2     0.2024  22NOV13  \n",
       "133412  231.4330  231.4330       54        1     0.1873  22NOV13  \n",
       "136291   69.8860  233.5075       67        1     0.1969  22NOV13  \n",
       "137290  263.3764  232.9660       73        2     0.2176  22NOV13  \n",
       "135342  301.7388  100.5796       78        1     0.2658  22NOV13  \n",
       "\n",
       "[10 rows x 635 columns]"
      ]
     },
     "execution_count": 9,
     "metadata": {},
     "output_type": "execute_result"
    }
   ],
   "source": [
    "df_ger = df[df['CNT']==\"Germany\"]\n",
    "df_ger.sample(10)"
   ]
  },
  {
   "cell_type": "code",
   "execution_count": 10,
   "metadata": {},
   "outputs": [
    {
     "data": {
      "text/plain": [
       "(5001, 635)"
      ]
     },
     "execution_count": 10,
     "metadata": {},
     "output_type": "execute_result"
    }
   ],
   "source": [
    "df_ger.shape"
   ]
  },
  {
   "cell_type": "markdown",
   "metadata": {},
   "source": [
    "### What is the structure of your dataset?\n",
    "\n",
    "> The given dataset consists of 485490 worldwide student responses to the PISA survey. Each response contains 635 features. German students make up 5001 responses.\n",
    "\n",
    "### What is/are the main feature(s) of interest in your dataset?\n",
    "\n",
    "> Main features contain the student performances PV1MATH, PV1READ, PV1SCIE\n",
    "\n",
    "### What features in the dataset do you think will help support your investigation into your feature(s) of interest?\n",
    "\n",
    "> **Test scores:**\n",
    "> - Mathematics score: PV1MATH\n",
    "> - Reading score: PV1READ\n",
    "> - Science score: PV1SCIE\n",
    "\n",
    "> **Student information:**\n",
    "> - Country: CNT\n",
    "> - Gender of student: ST04Q01\n",
    "> - National study program (type of attended school): ST02Q01\n",
    "\n",
    "> **Family information:**\n",
    "> - Education level father: FISCED\n",
    "> - Education level mother: MISCED\n",
    "> - Highest education level parents: HISCED\n",
    "> - Family structure: FAMSTRUC\n",
    "> - Immigration status: IMMIG"
   ]
  },
  {
   "cell_type": "markdown",
   "metadata": {},
   "source": [
    "The dataset contains extensive information from each student. I restict the dataset to features I consider interesting and which I want to further investigate in the following report."
   ]
  },
  {
   "cell_type": "code",
   "execution_count": 11,
   "metadata": {},
   "outputs": [],
   "source": [
    "df_ger = df_ger[[\"CNT\", \"ST04Q01\", \"ST02Q01\", \"PV1MATH\", \"PV1READ\", \n",
    "                 \"PV1SCIE\", \"FISCED\", \"MISCED\", \"HISCED\", \"FAMSTRUC\", \"IMMIG\"]]"
   ]
  },
  {
   "cell_type": "markdown",
   "metadata": {},
   "source": [
    "Column names are rather technical and therefore complicate the analysis, as the feature meaning is not visible right ahead. I therefore rename the columns based on their implication."
   ]
  },
  {
   "cell_type": "code",
   "execution_count": 12,
   "metadata": {},
   "outputs": [],
   "source": [
    "df_ger = df_ger.rename(columns={\"CNT\": \"country\", \n",
    "                                \"ST02Q01\": \"school_type\", \n",
    "                                \"ST04Q01\": \"gender\", \n",
    "                                \"PV1MATH\": \"math_score\", \n",
    "                                \"PV1READ\": \"reading_score\", \n",
    "                                \"PV1SCIE\": \"science_score\", \n",
    "                                \"FISCED\": \"education_father\", \n",
    "                                \"MISCED\": \"education_mother\", \n",
    "                                \"HISCED\": \"education_parents\", \n",
    "                                \"FAMSTRUC\": \"family_structure\", \n",
    "                                \"IMMIG\": \"immigration_status\"})"
   ]
  },
  {
   "cell_type": "code",
   "execution_count": 13,
   "metadata": {},
   "outputs": [
    {
     "data": {
      "text/html": [
       "<div>\n",
       "<style scoped>\n",
       "    .dataframe tbody tr th:only-of-type {\n",
       "        vertical-align: middle;\n",
       "    }\n",
       "\n",
       "    .dataframe tbody tr th {\n",
       "        vertical-align: top;\n",
       "    }\n",
       "\n",
       "    .dataframe thead th {\n",
       "        text-align: right;\n",
       "    }\n",
       "</style>\n",
       "<table border=\"1\" class=\"dataframe\">\n",
       "  <thead>\n",
       "    <tr style=\"text-align: right;\">\n",
       "      <th></th>\n",
       "      <th>country</th>\n",
       "      <th>gender</th>\n",
       "      <th>school_type</th>\n",
       "      <th>math_score</th>\n",
       "      <th>reading_score</th>\n",
       "      <th>science_score</th>\n",
       "      <th>education_father</th>\n",
       "      <th>education_mother</th>\n",
       "      <th>education_parents</th>\n",
       "      <th>family_structure</th>\n",
       "      <th>immigration_status</th>\n",
       "    </tr>\n",
       "  </thead>\n",
       "  <tbody>\n",
       "    <tr>\n",
       "      <th>136085</th>\n",
       "      <td>Germany</td>\n",
       "      <td>Female</td>\n",
       "      <td>4.0</td>\n",
       "      <td>498.0604</td>\n",
       "      <td>592.4799</td>\n",
       "      <td>561.3018</td>\n",
       "      <td>ISCED 5A, 6</td>\n",
       "      <td>ISCED 5A, 6</td>\n",
       "      <td>ISCED 5A, 6</td>\n",
       "      <td>2.0</td>\n",
       "      <td>Native</td>\n",
       "    </tr>\n",
       "    <tr>\n",
       "      <th>133124</th>\n",
       "      <td>Germany</td>\n",
       "      <td>Female</td>\n",
       "      <td>9.0</td>\n",
       "      <td>413.8573</td>\n",
       "      <td>411.8537</td>\n",
       "      <td>420.3096</td>\n",
       "      <td>ISCED 2</td>\n",
       "      <td>ISCED 3A, ISCED 4</td>\n",
       "      <td>ISCED 3A, ISCED 4</td>\n",
       "      <td>2.0</td>\n",
       "      <td>First-Generation</td>\n",
       "    </tr>\n",
       "    <tr>\n",
       "      <th>138039</th>\n",
       "      <td>Germany</td>\n",
       "      <td>Female</td>\n",
       "      <td>4.0</td>\n",
       "      <td>528.5948</td>\n",
       "      <td>591.8444</td>\n",
       "      <td>545.3562</td>\n",
       "      <td>NaN</td>\n",
       "      <td>ISCED 3A, ISCED 4</td>\n",
       "      <td>ISCED 3A, ISCED 4</td>\n",
       "      <td>NaN</td>\n",
       "      <td>Native</td>\n",
       "    </tr>\n",
       "    <tr>\n",
       "      <th>134853</th>\n",
       "      <td>Germany</td>\n",
       "      <td>Female</td>\n",
       "      <td>1.0</td>\n",
       "      <td>276.2969</td>\n",
       "      <td>263.8738</td>\n",
       "      <td>221.6897</td>\n",
       "      <td>ISCED 2</td>\n",
       "      <td>None</td>\n",
       "      <td>ISCED 2</td>\n",
       "      <td>2.0</td>\n",
       "      <td>Second-Generation</td>\n",
       "    </tr>\n",
       "    <tr>\n",
       "      <th>133945</th>\n",
       "      <td>Germany</td>\n",
       "      <td>Female</td>\n",
       "      <td>5.0</td>\n",
       "      <td>423.0488</td>\n",
       "      <td>495.2563</td>\n",
       "      <td>536.8706</td>\n",
       "      <td>ISCED 5B</td>\n",
       "      <td>NaN</td>\n",
       "      <td>ISCED 5B</td>\n",
       "      <td>NaN</td>\n",
       "      <td>Native</td>\n",
       "    </tr>\n",
       "  </tbody>\n",
       "</table>\n",
       "</div>"
      ],
      "text/plain": [
       "        country  gender  school_type  math_score  reading_score  \\\n",
       "136085  Germany  Female          4.0    498.0604       592.4799   \n",
       "133124  Germany  Female          9.0    413.8573       411.8537   \n",
       "138039  Germany  Female          4.0    528.5948       591.8444   \n",
       "134853  Germany  Female          1.0    276.2969       263.8738   \n",
       "133945  Germany  Female          5.0    423.0488       495.2563   \n",
       "\n",
       "        science_score education_father   education_mother  education_parents  \\\n",
       "136085       561.3018      ISCED 5A, 6        ISCED 5A, 6        ISCED 5A, 6   \n",
       "133124       420.3096          ISCED 2  ISCED 3A, ISCED 4  ISCED 3A, ISCED 4   \n",
       "138039       545.3562              NaN  ISCED 3A, ISCED 4  ISCED 3A, ISCED 4   \n",
       "134853       221.6897          ISCED 2               None            ISCED 2   \n",
       "133945       536.8706         ISCED 5B                NaN           ISCED 5B   \n",
       "\n",
       "        family_structure immigration_status  \n",
       "136085               2.0             Native  \n",
       "133124               2.0   First-Generation  \n",
       "138039               NaN             Native  \n",
       "134853               2.0  Second-Generation  \n",
       "133945               NaN             Native  "
      ]
     },
     "execution_count": 13,
     "metadata": {},
     "output_type": "execute_result"
    }
   ],
   "source": [
    "df_ger.sample(5)"
   ]
  },
  {
   "cell_type": "code",
   "execution_count": 14,
   "metadata": {},
   "outputs": [
    {
     "data": {
      "text/plain": [
       "country                object\n",
       "gender                 object\n",
       "school_type           float64\n",
       "math_score            float64\n",
       "reading_score         float64\n",
       "science_score         float64\n",
       "education_father       object\n",
       "education_mother       object\n",
       "education_parents      object\n",
       "family_structure      float64\n",
       "immigration_status     object\n",
       "dtype: object"
      ]
     },
     "execution_count": 14,
     "metadata": {},
     "output_type": "execute_result"
    }
   ],
   "source": [
    "df_ger.dtypes"
   ]
  },
  {
   "cell_type": "markdown",
   "metadata": {},
   "source": [
    "### Further data wrangling"
   ]
  },
  {
   "cell_type": "markdown",
   "metadata": {},
   "source": [
    "#### Remove null values"
   ]
  },
  {
   "cell_type": "markdown",
   "metadata": {},
   "source": [
    "I will remove all null values from the dataset to ease further analysis."
   ]
  },
  {
   "cell_type": "code",
   "execution_count": 15,
   "metadata": {},
   "outputs": [],
   "source": [
    "\"\"\"Drop null values\"\"\"\n",
    "df_ger = df_ger.dropna()"
   ]
  },
  {
   "cell_type": "code",
   "execution_count": 16,
   "metadata": {},
   "outputs": [
    {
     "data": {
      "text/plain": [
       "(3197, 11)"
      ]
     },
     "execution_count": 16,
     "metadata": {},
     "output_type": "execute_result"
    }
   ],
   "source": [
    "df_ger.shape"
   ]
  },
  {
   "cell_type": "markdown",
   "metadata": {},
   "source": [
    "#### Add speaking school types"
   ]
  },
  {
   "cell_type": "markdown",
   "metadata": {},
   "source": [
    "At the moement, school types are labelled using float numbers. I will replace them with string representations and a meaningful, short description of the school type."
   ]
  },
  {
   "cell_type": "code",
   "execution_count": 17,
   "metadata": {},
   "outputs": [
    {
     "data": {
      "text/plain": [
       "array([10.,  9.,  4.,  3.,  1., 12.,  2.,  5., 15., 16., 14., 11.])"
      ]
     },
     "execution_count": 17,
     "metadata": {},
     "output_type": "execute_result"
    }
   ],
   "source": [
    "df_ger.school_type.unique()"
   ]
  },
  {
   "cell_type": "code",
   "execution_count": 18,
   "metadata": {},
   "outputs": [],
   "source": [
    "df_ger.loc[:,\"school_type\"] = df_ger[\"school_type\"].astype('str')\n",
    "\n",
    "school_map = {\"1.0\": \"Special school\", \n",
    "              \"2.0\": \"Main school\",\n",
    "              \"3.0\": \"Middle school\",\n",
    "              \"4.0\": \"High school\",\n",
    "              \"5.0\": \"Integrated school\",\n",
    "              \"9.0\": \"Integrated school\",\n",
    "              \"10.0\": \"Middle school\",\n",
    "              \"11.0\": \"Main school\",\n",
    "              \"12.0\": \"Middle school\",\n",
    "              \"14.0\": \"Vocational preparation\",\n",
    "              \"15.0\": \"Vocational school\",\n",
    "              \"16.0\": \"Vocational college\"\n",
    "             }\n",
    "df_ger[\"school_type\"] = df_ger[\"school_type\"].replace(school_map)"
   ]
  },
  {
   "cell_type": "code",
   "execution_count": 19,
   "metadata": {},
   "outputs": [
    {
     "data": {
      "text/plain": [
       "array(['Middle school', 'Integrated school', 'High school',\n",
       "       'Special school', 'Main school', 'Vocational school',\n",
       "       'Vocational college', 'Vocational preparation'], dtype=object)"
      ]
     },
     "execution_count": 19,
     "metadata": {},
     "output_type": "execute_result"
    }
   ],
   "source": [
    "df_ger[\"school_type\"].unique()"
   ]
  },
  {
   "cell_type": "markdown",
   "metadata": {},
   "source": [
    "#### Add speaking family structure values"
   ]
  },
  {
   "cell_type": "code",
   "execution_count": 20,
   "metadata": {},
   "outputs": [],
   "source": [
    "family_structure_map = {1.0: \"Single father/mother\",\n",
    "                       2.0: \"Both parents\",\n",
    "                       3.0: \"Other\"}\n",
    "\n",
    "df_ger[\"family_structure\"] = df_ger[\"family_structure\"].replace(family_structure_map)"
   ]
  },
  {
   "cell_type": "code",
   "execution_count": 21,
   "metadata": {},
   "outputs": [
    {
     "data": {
      "text/plain": [
       "array(['Single father/mother', 'Both parents', 'Other'], dtype=object)"
      ]
     },
     "execution_count": 21,
     "metadata": {},
     "output_type": "execute_result"
    }
   ],
   "source": [
    "df_ger.family_structure.unique()"
   ]
  },
  {
   "cell_type": "markdown",
   "metadata": {},
   "source": [
    "#### Set category datatypes"
   ]
  },
  {
   "cell_type": "markdown",
   "metadata": {},
   "source": [
    "Several features can be represented as categories while currently being formatted as strings. I will change this accordingly."
   ]
  },
  {
   "cell_type": "code",
   "execution_count": 22,
   "metadata": {},
   "outputs": [],
   "source": [
    "family_categories = pd.api.types.CategoricalDtype(categories=[\"Both parents\", \"Single father/mother\", \"Other\"], \n",
    "                                                                 ordered=True)\n",
    "df_ger[\"family_structure\"] = df_ger[\"family_structure\"].astype(family_categories)\n",
    "\n",
    "gender_categories = pd.api.types.CategoricalDtype(categories=[\"Female\", \"Male\"], ordered=False)\n",
    "df_ger[\"gender\"] = df_ger[\"gender\"].astype(gender_categories)\n",
    "\n",
    "school_categories = pd.api.types.CategoricalDtype(categories=[\"Special school\", \"Main school\", \"Middle school\", \n",
    "                                                                        \"Integrated school\", \"High school\", \n",
    "                                                                        \"Vocational preparation\", \n",
    "                                                                        \"Vocational school\", \"Vocational college\"],\n",
    "                                                            ordered=False)\n",
    "df_ger[\"school_type\"] = df_ger[\"school_type\"].astype(school_categories)\n",
    "\n",
    "immigration_categories = pd.api.types.CategoricalDtype(categories=[\"Native\", \"Second-Generation\", \"First-Generation\"], \n",
    "                                                                 ordered=True)\n",
    "df_ger[\"immigration_status\"] = df_ger[\"immigration_status\"].astype(immigration_categories)\n",
    "\n",
    "education_categories = pd.api.types.CategoricalDtype(categories=['ISCED 5B', 'ISCED 5A, 6', 'ISCED 3B, C',\n",
    "       'ISCED 3A, ISCED 4', 'ISCED 2', 'ISCED 1', 'None'], ordered=True)\n",
    "df_ger[\"education_father\"] = df_ger[\"education_father\"].astype(education_categories)\n",
    "df_ger[\"education_mother\"] = df_ger[\"education_mother\"].astype(education_categories)\n",
    "df_ger[\"education_parents\"] = df_ger[\"education_parents\"].astype(education_categories)\n"
   ]
  },
  {
   "cell_type": "code",
   "execution_count": 23,
   "metadata": {},
   "outputs": [
    {
     "data": {
      "text/plain": [
       "country                 object\n",
       "gender                category\n",
       "school_type           category\n",
       "math_score             float64\n",
       "reading_score          float64\n",
       "science_score          float64\n",
       "education_father      category\n",
       "education_mother      category\n",
       "education_parents     category\n",
       "family_structure      category\n",
       "immigration_status    category\n",
       "dtype: object"
      ]
     },
     "execution_count": 23,
     "metadata": {},
     "output_type": "execute_result"
    }
   ],
   "source": [
    "df_ger.dtypes"
   ]
  },
  {
   "cell_type": "code",
   "execution_count": 113,
   "metadata": {},
   "outputs": [],
   "source": [
    "df_ger.to_csv('pisa_2012_DEU_clean.csv', index_label=False)"
   ]
  },
  {
   "cell_type": "markdown",
   "metadata": {},
   "source": [
    "## Univariate Exploration\n",
    "\n",
    "> In this section, investigate distributions of individual variables. If\n",
    "you see unusual points or outliers, take a deeper look to clean things up\n",
    "and prepare yourself to look at relationships between variables."
   ]
  },
  {
   "cell_type": "markdown",
   "metadata": {},
   "source": [
    "### Gender distribution"
   ]
  },
  {
   "cell_type": "code",
   "execution_count": 24,
   "metadata": {},
   "outputs": [
    {
     "data": {
      "text/plain": [
       "Female    1616\n",
       "Male      1581\n",
       "Name: gender, dtype: int64"
      ]
     },
     "execution_count": 24,
     "metadata": {},
     "output_type": "execute_result"
    }
   ],
   "source": [
    "by_gender = df_ger.gender.value_counts()\n",
    "by_gender"
   ]
  },
  {
   "cell_type": "code",
   "execution_count": 268,
   "metadata": {},
   "outputs": [
    {
     "data": {
      "text/plain": [
       "([<matplotlib.patches.Wedge at 0x17248dc3358>,\n",
       "  <matplotlib.patches.Wedge at 0x17248dc3a20>],\n",
       " [Text(-1.1098358774890296, -0.019087300441812127, 'Female'),\n",
       "  Text(1.1098358792761067, 0.019087196531477387, 'Male')],\n",
       " [Text(-0.6099098065480252, -0.010489417359914772, '50.5%'),\n",
       "  Text(0.6099098075301126, 0.010489360256037122, '49.5%')])"
      ]
     },
     "execution_count": 268,
     "metadata": {},
     "output_type": "execute_result"
    },
    {
     "data": {
      "image/png": "[encoded data removed]",
      "text/plain": [
       "<Figure size 576x576 with 1 Axes>"
      ]
     },
     "metadata": {},
     "output_type": "display_data"
    }
   ],
   "source": [
    "plt.figure(figsize=(8,8))\n",
    "explode = (0.01, 0.01)\n",
    "plt.pie(by_gender.values, explode = explode, labels = by_gender.index, autopct='%1.1f%%', startangle=90)"
   ]
  },
  {
   "cell_type": "markdown",
   "metadata": {},
   "source": [
    "> The dataset contains approximately equal number of male and female students."
   ]
  },
  {
   "cell_type": "markdown",
   "metadata": {},
   "source": [
    "### Test scores of students"
   ]
  },
  {
   "cell_type": "code",
   "execution_count": 223,
   "metadata": {},
   "outputs": [
    {
     "name": "stdout",
     "output_type": "stream",
     "text": [
      "Mean for math test in OECD countries: 488.3477719121511\n",
      "Mean for reading test in OECD countries: 490.7844131820888\n",
      "Mean for science test in OECD countries: 494.87909850752834\n"
     ]
    }
   ],
   "source": [
    "math_oecd_mean = df.query(\"OECD == 'OECD'\")[\"PV1MATH\"].mean()\n",
    "reading_oecd_mean = df.query(\"OECD == 'OECD'\")[\"PV1READ\"].mean()\n",
    "science_oecd_mean = df.query(\"OECD == 'OECD'\")[\"PV1SCIE\"].mean()\n",
    "print('Mean for math test in OECD countries: {}'.format(math_oecd_mean))\n",
    "print('Mean for reading test in OECD countries: {}'.format(reading_oecd_mean))\n",
    "print('Mean for science test in OECD countries: {}'.format(science_oecd_mean))"
   ]
  },
  {
   "cell_type": "code",
   "execution_count": 224,
   "metadata": {},
   "outputs": [
    {
     "data": {
      "text/html": [
       "<div>\n",
       "<style scoped>\n",
       "    .dataframe tbody tr th:only-of-type {\n",
       "        vertical-align: middle;\n",
       "    }\n",
       "\n",
       "    .dataframe tbody tr th {\n",
       "        vertical-align: top;\n",
       "    }\n",
       "\n",
       "    .dataframe thead th {\n",
       "        text-align: right;\n",
       "    }\n",
       "</style>\n",
       "<table border=\"1\" class=\"dataframe\">\n",
       "  <thead>\n",
       "    <tr style=\"text-align: right;\">\n",
       "      <th></th>\n",
       "      <th>math_score</th>\n",
       "      <th>science_score</th>\n",
       "      <th>reading_score</th>\n",
       "    </tr>\n",
       "  </thead>\n",
       "  <tbody>\n",
       "    <tr>\n",
       "      <th>count</th>\n",
       "      <td>3197.000000</td>\n",
       "      <td>3197.000000</td>\n",
       "      <td>3197.000000</td>\n",
       "    </tr>\n",
       "    <tr>\n",
       "      <th>mean</th>\n",
       "      <td>534.168330</td>\n",
       "      <td>544.606399</td>\n",
       "      <td>528.700826</td>\n",
       "    </tr>\n",
       "    <tr>\n",
       "      <th>std</th>\n",
       "      <td>92.915377</td>\n",
       "      <td>89.706077</td>\n",
       "      <td>84.881648</td>\n",
       "    </tr>\n",
       "    <tr>\n",
       "      <th>min</th>\n",
       "      <td>224.887100</td>\n",
       "      <td>202.107400</td>\n",
       "      <td>246.178900</td>\n",
       "    </tr>\n",
       "    <tr>\n",
       "      <th>25%</th>\n",
       "      <td>472.121800</td>\n",
       "      <td>485.863500</td>\n",
       "      <td>473.809900</td>\n",
       "    </tr>\n",
       "    <tr>\n",
       "      <th>50%</th>\n",
       "      <td>539.499900</td>\n",
       "      <td>552.722900</td>\n",
       "      <td>536.560400</td>\n",
       "    </tr>\n",
       "    <tr>\n",
       "      <th>75%</th>\n",
       "      <td>600.412800</td>\n",
       "      <td>607.926100</td>\n",
       "      <td>590.573500</td>\n",
       "    </tr>\n",
       "    <tr>\n",
       "      <th>max</th>\n",
       "      <td>797.016700</td>\n",
       "      <td>782.114900</td>\n",
       "      <td>753.883700</td>\n",
       "    </tr>\n",
       "  </tbody>\n",
       "</table>\n",
       "</div>"
      ],
      "text/plain": [
       "        math_score  science_score  reading_score\n",
       "count  3197.000000    3197.000000    3197.000000\n",
       "mean    534.168330     544.606399     528.700826\n",
       "std      92.915377      89.706077      84.881648\n",
       "min     224.887100     202.107400     246.178900\n",
       "25%     472.121800     485.863500     473.809900\n",
       "50%     539.499900     552.722900     536.560400\n",
       "75%     600.412800     607.926100     590.573500\n",
       "max     797.016700     782.114900     753.883700"
      ]
     },
     "execution_count": 224,
     "metadata": {},
     "output_type": "execute_result"
    }
   ],
   "source": [
    "df_ger[[\"math_score\", \"science_score\", \"reading_score\"]].describe()"
   ]
  },
  {
   "cell_type": "code",
   "execution_count": 225,
   "metadata": {},
   "outputs": [
    {
     "data": {
      "text/plain": [
       "Text(0.5, 0.98, 'Score distribution per subject')"
      ]
     },
     "execution_count": 225,
     "metadata": {},
     "output_type": "execute_result"
    },
    {
     "data": {
      "image/png": "[encoded data removed]",
      "text/plain": [
       "<Figure size 1080x360 with 3 Axes>"
      ]
     },
     "metadata": {
      "needs_background": "light"
     },
     "output_type": "display_data"
    }
   ],
   "source": [
    "fig, axes = plt.subplots(1, 3, figsize=(15, 5), sharex=True)\n",
    "\n",
    "sb.histplot(df_ger['math_score'], ax=axes[0], bins=12)\n",
    "sb.histplot(df_ger['reading_score'], ax=axes[1], bins=12)\n",
    "sb.histplot(df_ger['science_score'], ax=axes[2], bins=12)\n",
    "axes[0].axvline(x=math_oecd_mean, color=\"red\")\n",
    "axes[0].text(math_oecd_mean,660,'OECD mean', color=\"red\")\n",
    "axes[1].axvline(x=reading_oecd_mean, color=\"red\")\n",
    "axes[1].text(reading_oecd_mean,670,'OECD mean', color=\"red\")\n",
    "axes[2].axvline(x=science_oecd_mean, color=\"red\")\n",
    "axes[2].text(science_oecd_mean,760,'OECD mean', color=\"red\")\n",
    "\n",
    "\"\"\"Set xlabels to destinguish plot target (math, reading, science)\"\"\"\n",
    "axes[0].set_xlabel(\"Math scores\")\n",
    "axes[1].set_xlabel(\"Reading scores\")\n",
    "axes[2].set_xlabel(\"Science scores\")\n",
    "plt.suptitle('Score distribution per subject')"
   ]
  },
  {
   "cell_type": "markdown",
   "metadata": {},
   "source": [
    "All scores - `math_score`, `reading_score` and `science_score` -  are approximately normal distributed and centered arount 500. Most students score between 300 and 750 on each test. On average, students tend to perform slightly better (arount 20 points) on the `science_score` compared to reading and mathmatics.\n",
    "\n",
    "The red line represents the test scores averaged over all OECD countries. Seeing this, Germany performs above average in all three test subjects."
   ]
  },
  {
   "cell_type": "markdown",
   "metadata": {},
   "source": [
    "### School types"
   ]
  },
  {
   "cell_type": "code",
   "execution_count": 226,
   "metadata": {},
   "outputs": [
    {
     "data": {
      "text/plain": [
       "High school               1404\n",
       "Middle school             1067\n",
       "Integrated school          342\n",
       "Main school                271\n",
       "Special school              54\n",
       "Vocational college          26\n",
       "Vocational school           20\n",
       "Vocational preparation      13\n",
       "Name: school_type, dtype: int64"
      ]
     },
     "execution_count": 226,
     "metadata": {},
     "output_type": "execute_result"
    }
   ],
   "source": [
    "school_counts = df_ger.school_type.value_counts()\n",
    "school_counts"
   ]
  },
  {
   "cell_type": "code",
   "execution_count": 227,
   "metadata": {},
   "outputs": [
    {
     "data": {
      "text/plain": [
       "Text(0.5, 1.0, 'Distribution of student school types in Germany for PISA 2021 survey')"
      ]
     },
     "execution_count": 227,
     "metadata": {},
     "output_type": "execute_result"
    },
    {
     "data": {
      "image/png": "[encoded data removed]",
      "text/plain": [
       "<Figure size 720x432 with 1 Axes>"
      ]
     },
     "metadata": {
      "needs_background": "light"
     },
     "output_type": "display_data"
    }
   ],
   "source": [
    "order = df_ger['school_type'].value_counts().index\n",
    "plt.figure(figsize=(10,6))\n",
    "sb.countplot(data=df_ger,y='school_type',order=order, color=color)\n",
    "plt.ylabel(\"School type\")\n",
    "plt.title(\"Distribution of student school types in Germany for PISA 2021 survey\")"
   ]
  },
  {
   "cell_type": "markdown",
   "metadata": {},
   "source": [
    "### Family structure"
   ]
  },
  {
   "cell_type": "code",
   "execution_count": 228,
   "metadata": {},
   "outputs": [
    {
     "data": {
      "text/plain": [
       "Both parents            2814\n",
       "Single father/mother     371\n",
       "Other                     12\n",
       "Name: family_structure, dtype: int64"
      ]
     },
     "execution_count": 228,
     "metadata": {},
     "output_type": "execute_result"
    }
   ],
   "source": [
    "famstruc_counts = df_ger.family_structure.value_counts()\n",
    "famstruc_counts"
   ]
  },
  {
   "cell_type": "code",
   "execution_count": 229,
   "metadata": {},
   "outputs": [],
   "source": [
    "def write_percentages(locs, labels, n_points, counts):\n",
    "    # loop through each pair of locations and labels\n",
    "    for loc, label in zip(locs, labels):\n",
    "\n",
    "        # get the text property for the label to get the correct count\n",
    "        count = counts[label.get_text()]\n",
    "        pct_string = '{:0.1f}%'.format(100*count/n_points)\n",
    "\n",
    "        # print the annotation just below the top of the bar\n",
    "        plt.text(loc, count+20, pct_string, ha = 'center', va='bottom', color = 'black')"
   ]
  },
  {
   "cell_type": "code",
   "execution_count": 230,
   "metadata": {},
   "outputs": [
    {
     "data": {
      "image/png": "[encoded data removed]",
      "text/plain": [
       "<Figure size 720x432 with 1 Axes>"
      ]
     },
     "metadata": {
      "needs_background": "light"
     },
     "output_type": "display_data"
    }
   ],
   "source": [
    "plt.figure(figsize=(10,6))\n",
    "sb.barplot(x=famstruc_counts.index, y=famstruc_counts.values, color=color)\n",
    "plt.xlabel(\"Family structure\")\n",
    "plt.title(\"Distribution of family structure among PISA 2012 participants in Germany\")\n",
    "\n",
    "# add annotations\n",
    "n_points = df_ger.shape[0]\n",
    "locs, labels = plt.xticks() # get the current tick locations and labels\n",
    "\n",
    "write_percentages(locs, labels, n_points, famstruc_counts)"
   ]
  },
  {
   "cell_type": "markdown",
   "metadata": {},
   "source": [
    "### Immigration"
   ]
  },
  {
   "cell_type": "code",
   "execution_count": 231,
   "metadata": {},
   "outputs": [],
   "source": [
    "immi_counts = df_ger.immigration_status.value_counts()"
   ]
  },
  {
   "cell_type": "code",
   "execution_count": 262,
   "metadata": {},
   "outputs": [
    {
     "data": {
      "image/png": "[encoded data removed]",
      "text/plain": [
       "<Figure size 720x432 with 1 Axes>"
      ]
     },
     "metadata": {
      "needs_background": "light"
     },
     "output_type": "display_data"
    }
   ],
   "source": [
    "plt.figure(figsize=(10,6))\n",
    "sb.barplot(x=immi_counts.index, y=immi_counts.values, color=color)\n",
    "plt.xlabel(\"Immigration status\")\n",
    "plt.title(\"Distribution of student immigration status among PISA 2012 participants in Germany\")\n",
    "\n",
    "# add annotations\n",
    "n_points = df_ger.shape[0]\n",
    "locs, labels = plt.xticks() # get the current tick locations and labels\n",
    "\n",
    "write_percentages(locs, labels, n_points, immi_counts)"
   ]
  },
  {
   "cell_type": "code",
   "execution_count": 269,
   "metadata": {},
   "outputs": [
    {
     "data": {
      "text/plain": [
       "([<matplotlib.patches.Wedge at 0x17248e01b70>,\n",
       "  <matplotlib.patches.Wedge at 0x17248e0e2e8>,\n",
       "  <matplotlib.patches.Wedge at 0x17248e0e908>],\n",
       " [Text(-0.3172871502637739, -1.0636864501710517, 'Native'),\n",
       "  Text(0.3650282705941667, 1.048262544245015, 'Second-Generation'),\n",
       "  Text(0.050158025202555176, 1.1088661652822582, 'First-Generation')],\n",
       " [Text(-0.1743650105053172, -0.5845484095534608, '90.8%'),\n",
       "  Text(0.20060112167787536, 0.5760722089995127, '7.8%'),\n",
       "  Text(0.027564320156359148, 0.6093769016416012, '1.4%')])"
      ]
     },
     "execution_count": 269,
     "metadata": {},
     "output_type": "execute_result"
    },
    {
     "data": {
      "image/png": "[encoded data removed]",
      "text/plain": [
       "<Figure size 864x864 with 1 Axes>"
      ]
     },
     "metadata": {},
     "output_type": "display_data"
    }
   ],
   "source": [
    "plt.figure(figsize=(12,12))\n",
    "explode = (0.01, 0.01, 0.01)\n",
    "plt.pie(immi_counts.values, explode = explode, labels = immi_counts.index, autopct='%1.1f%%', startangle=90, textprops={'fontsize': 14})"
   ]
  },
  {
   "cell_type": "markdown",
   "metadata": {},
   "source": [
    "### Scholar education of parents"
   ]
  },
  {
   "cell_type": "code",
   "execution_count": 233,
   "metadata": {},
   "outputs": [
    {
     "data": {
      "text/plain": [
       "Text(0.5, 0.98, 'Distribution of highest educational achievement of mother, father and combined')"
      ]
     },
     "execution_count": 233,
     "metadata": {},
     "output_type": "execute_result"
    },
    {
     "data": {
      "image/png": "[encoded data removed]",
      "text/plain": [
       "<Figure size 1080x360 with 3 Axes>"
      ]
     },
     "metadata": {
      "needs_background": "light"
     },
     "output_type": "display_data"
    }
   ],
   "source": [
    "\"\"\"Create figures\"\"\"\n",
    "fix, axes = plt.subplots(1,3, figsize=(15,5))\n",
    "\n",
    "\"\"\"Compute percentages for distribution of scholar education\"\"\"\n",
    "education_mother_count=df_ger.education_mother.value_counts(normalize=True)\n",
    "education_father_count=df_ger.education_father.value_counts(normalize=True)\n",
    "education_parents_count=df_ger.education_parents.value_counts(normalize=True)\n",
    "\n",
    "\"\"\"Plot 3 barchats for mother, father and combined education\"\"\"\n",
    "sb.barplot(x=education_mother_count.index, y=education_mother_count.values, ax=axes[0], color=color)\n",
    "sb.barplot(x=education_father_count.index, y=education_father_count.values, ax=axes[1], color=color)\n",
    "sb.barplot(x=education_parents_count.index, y=education_parents_count.values, ax=axes[2], color=color)\n",
    "\n",
    "\"\"\"Rotate xticks to make them readable\"\"\"\n",
    "axes[0].tick_params(labelrotation=90)\n",
    "axes[1].tick_params(labelrotation=90)\n",
    "axes[2].tick_params(labelrotation=90)\n",
    "\n",
    "\"\"\"Set xlabels to destinguish plot target (mother, father, combined)\"\"\"\n",
    "axes[0].set_xlabel(\"Education of mother\")\n",
    "axes[1].set_xlabel(\"Education of father\")\n",
    "axes[2].set_xlabel(\"Combined highest education\")\n",
    "axes[0].set_ylabel(\"Percentage\")\n",
    "\n",
    "\"\"\"Set plot title\"\"\"\n",
    "plt.suptitle('Distribution of highest educational achievement of mother, father and combined')"
   ]
  },
  {
   "cell_type": "markdown",
   "metadata": {},
   "source": [
    "Most of all parents have at least education level `ISCED 2`, meaning secondary education or middle school. Among all parents, more than 50% of adults have some secondary education (`ISCED 2, 3, 4`). Comparing the number of fathers and mothers with higher education shows that among all studens, the percentage of students whos father holds a  graduate degree (`ISCED 5B`) is about doubled compared to students whos mother has such an education. This gives rise to the assumption that in 2012, the classic role model was still widely spread."
   ]
  },
  {
   "cell_type": "markdown",
   "metadata": {},
   "source": [
    "### Discuss the distribution(s) of your variable(s) of interest. Were there any unusual points? Did you need to perform any transformations?\n",
    "\n",
    "> - **Test scores:** Test scores were normal distributed among all subjects. I am curious to see, if there is a difference between male and female students or between immigrants and natives. \n",
    "> - **Immigration status**: Interestingly only 10% of students are either first or second-generation immigrations. I expected the number to be higher as Germany is an immigration country.\n",
    "> - **Family structure:** Around 88% of students are raised in a traditional environment with mother and father as caretaker. Nevertheless, 11% of students live with a single parent. Considering this being around 2-3 in every school class, on average this seems plausible.\n",
    "\n",
    "\n",
    "### Of the features you investigated, were there any unusual distributions? Did you perform any operations on the data to tidy, adjust, or change the form of the data? If so, why did you do this?\n",
    "\n",
    "> - **School type:** As schools were categorized using float values, I needed to transform them into categorical strings. Therefore I mapped float values to a describing string translating school names from the PISA 2012 scale handbook (https://www.pisa.tum.de/fileadmin/w00bgi/www/Berichtsbaende_und_Zusammenfassungungen/PISA_2012_Skalenhandbuch_final-openaccess.pdf)"
   ]
  },
  {
   "cell_type": "markdown",
   "metadata": {},
   "source": [
    "## Bivariate Exploration\n",
    "\n",
    "> In this section, investigate relationships between pairs of variables in your\n",
    "data. Make sure the variables that you cover here have been introduced in some\n",
    "fashion in the previous section (univariate exploration)."
   ]
  },
  {
   "cell_type": "markdown",
   "metadata": {},
   "source": [
    "### Do female and male students perform differently on the tests?"
   ]
  },
  {
   "cell_type": "code",
   "execution_count": 234,
   "metadata": {},
   "outputs": [
    {
     "data": {
      "text/html": [
       "<div>\n",
       "<style scoped>\n",
       "    .dataframe tbody tr th:only-of-type {\n",
       "        vertical-align: middle;\n",
       "    }\n",
       "\n",
       "    .dataframe tbody tr th {\n",
       "        vertical-align: top;\n",
       "    }\n",
       "\n",
       "    .dataframe thead tr th {\n",
       "        text-align: left;\n",
       "    }\n",
       "\n",
       "    .dataframe thead tr:last-of-type th {\n",
       "        text-align: right;\n",
       "    }\n",
       "</style>\n",
       "<table border=\"1\" class=\"dataframe\">\n",
       "  <thead>\n",
       "    <tr>\n",
       "      <th></th>\n",
       "      <th colspan=\"8\" halign=\"left\">math_score</th>\n",
       "      <th colspan=\"5\" halign=\"left\">reading_score</th>\n",
       "      <th colspan=\"8\" halign=\"left\">science_score</th>\n",
       "    </tr>\n",
       "    <tr>\n",
       "      <th></th>\n",
       "      <th>count</th>\n",
       "      <th>mean</th>\n",
       "      <th>std</th>\n",
       "      <th>min</th>\n",
       "      <th>25%</th>\n",
       "      <th>50%</th>\n",
       "      <th>75%</th>\n",
       "      <th>max</th>\n",
       "      <th>count</th>\n",
       "      <th>mean</th>\n",
       "      <th>...</th>\n",
       "      <th>75%</th>\n",
       "      <th>max</th>\n",
       "      <th>count</th>\n",
       "      <th>mean</th>\n",
       "      <th>std</th>\n",
       "      <th>min</th>\n",
       "      <th>25%</th>\n",
       "      <th>50%</th>\n",
       "      <th>75%</th>\n",
       "      <th>max</th>\n",
       "    </tr>\n",
       "    <tr>\n",
       "      <th>gender</th>\n",
       "      <th></th>\n",
       "      <th></th>\n",
       "      <th></th>\n",
       "      <th></th>\n",
       "      <th></th>\n",
       "      <th></th>\n",
       "      <th></th>\n",
       "      <th></th>\n",
       "      <th></th>\n",
       "      <th></th>\n",
       "      <th></th>\n",
       "      <th></th>\n",
       "      <th></th>\n",
       "      <th></th>\n",
       "      <th></th>\n",
       "      <th></th>\n",
       "      <th></th>\n",
       "      <th></th>\n",
       "      <th></th>\n",
       "      <th></th>\n",
       "      <th></th>\n",
       "    </tr>\n",
       "  </thead>\n",
       "  <tbody>\n",
       "    <tr>\n",
       "      <th>Female</th>\n",
       "      <td>1616.0</td>\n",
       "      <td>525.690603</td>\n",
       "      <td>90.384587</td>\n",
       "      <td>235.4806</td>\n",
       "      <td>463.728775</td>\n",
       "      <td>529.4516</td>\n",
       "      <td>592.35085</td>\n",
       "      <td>775.7517</td>\n",
       "      <td>1616.0</td>\n",
       "      <td>548.776289</td>\n",
       "      <td>...</td>\n",
       "      <td>606.2214</td>\n",
       "      <td>753.8837</td>\n",
       "      <td>1616.0</td>\n",
       "      <td>543.195446</td>\n",
       "      <td>87.621714</td>\n",
       "      <td>202.1074</td>\n",
       "      <td>484.791075</td>\n",
       "      <td>551.7904</td>\n",
       "      <td>604.7557</td>\n",
       "      <td>775.5875</td>\n",
       "    </tr>\n",
       "    <tr>\n",
       "      <th>Male</th>\n",
       "      <td>1581.0</td>\n",
       "      <td>542.833736</td>\n",
       "      <td>94.679750</td>\n",
       "      <td>224.8871</td>\n",
       "      <td>481.235400</td>\n",
       "      <td>548.6135</td>\n",
       "      <td>610.14960</td>\n",
       "      <td>797.0167</td>\n",
       "      <td>1581.0</td>\n",
       "      <td>508.180934</td>\n",
       "      <td>...</td>\n",
       "      <td>570.9666</td>\n",
       "      <td>725.6619</td>\n",
       "      <td>1581.0</td>\n",
       "      <td>546.048587</td>\n",
       "      <td>91.793023</td>\n",
       "      <td>233.8120</td>\n",
       "      <td>488.288000</td>\n",
       "      <td>553.8419</td>\n",
       "      <td>612.4021</td>\n",
       "      <td>782.1149</td>\n",
       "    </tr>\n",
       "  </tbody>\n",
       "</table>\n",
       "<p>2 rows × 24 columns</p>\n",
       "</div>"
      ],
      "text/plain": [
       "       math_score                                                         \\\n",
       "            count        mean        std       min         25%       50%   \n",
       "gender                                                                     \n",
       "Female     1616.0  525.690603  90.384587  235.4806  463.728775  529.4516   \n",
       "Male       1581.0  542.833736  94.679750  224.8871  481.235400  548.6135   \n",
       "\n",
       "                            reading_score              ...            \\\n",
       "              75%       max         count        mean  ...       75%   \n",
       "gender                                                 ...             \n",
       "Female  592.35085  775.7517        1616.0  548.776289  ...  606.2214   \n",
       "Male    610.14960  797.0167        1581.0  508.180934  ...  570.9666   \n",
       "\n",
       "                 science_score                                               \\\n",
       "             max         count        mean        std       min         25%   \n",
       "gender                                                                        \n",
       "Female  753.8837        1616.0  543.195446  87.621714  202.1074  484.791075   \n",
       "Male    725.6619        1581.0  546.048587  91.793023  233.8120  488.288000   \n",
       "\n",
       "                                      \n",
       "             50%       75%       max  \n",
       "gender                                \n",
       "Female  551.7904  604.7557  775.5875  \n",
       "Male    553.8419  612.4021  782.1149  \n",
       "\n",
       "[2 rows x 24 columns]"
      ]
     },
     "execution_count": 234,
     "metadata": {},
     "output_type": "execute_result"
    }
   ],
   "source": [
    "df_ger[[\"gender\", \"math_score\", \"reading_score\", \"science_score\"]].groupby(\"gender\").describe()"
   ]
  },
  {
   "cell_type": "code",
   "execution_count": 235,
   "metadata": {},
   "outputs": [
    {
     "data": {
      "text/plain": [
       "Text(0.5, 0.98, 'Distribution of test score comparing female vs. male students')"
      ]
     },
     "execution_count": 235,
     "metadata": {},
     "output_type": "execute_result"
    },
    {
     "data": {
      "image/png": "[encoded data removed]",
      "text/plain": [
       "<Figure size 1080x360 with 3 Axes>"
      ]
     },
     "metadata": {
      "needs_background": "light"
     },
     "output_type": "display_data"
    }
   ],
   "source": [
    "fix, axes = plt.subplots(1,3,figsize=(15,5))\n",
    "sb.boxplot(x=\"gender\", y=\"math_score\", data=df_ger, ax=axes[0])\n",
    "sb.boxplot(x=\"gender\", y=\"reading_score\", data=df_ger, ax=axes[1])\n",
    "sb.boxplot(x=\"gender\", y=\"science_score\", data=df_ger, ax=axes[2])\n",
    "\n",
    "\"\"\"Set xlabels to destinguish plot target (math, reading, science)\"\"\"\n",
    "axes[0].set_xlabel(\"Math\")\n",
    "axes[1].set_xlabel(\"Reading\")\n",
    "axes[2].set_xlabel(\"Science\")\n",
    "axes[0].set_ylabel(\"Count\")\n",
    "axes[1].set_ylabel(\"Count\")\n",
    "axes[2].set_ylabel(\"Count\")\n",
    "\n",
    "\"\"\"Set plot title\"\"\"\n",
    "plt.suptitle('Distribution of test score comparing female vs. male students')"
   ]
  },
  {
   "cell_type": "markdown",
   "metadata": {},
   "source": [
    "On the mathematics test, male students performed slightly better on average, by 20 points. On the contrary, females scored better on the reading test, also by 20 points. When it comes to science, female and male students in Germany performed equally well on the PISA 2012 test."
   ]
  },
  {
   "cell_type": "markdown",
   "metadata": {},
   "source": [
    "### Do school joices depend on parents' education?"
   ]
  },
  {
   "cell_type": "code",
   "execution_count": 236,
   "metadata": {},
   "outputs": [
    {
     "data": {
      "text/plain": [
       "<AxesSubplot:xlabel='education_parents', ylabel='school_type'>"
      ]
     },
     "execution_count": 236,
     "metadata": {},
     "output_type": "execute_result"
    },
    {
     "data": {
      "image/png": "[encoded data removed]",
      "text/plain": [
       "<Figure size 432x288 with 1 Axes>"
      ]
     },
     "metadata": {
      "needs_background": "light"
     },
     "output_type": "display_data"
    }
   ],
   "source": [
    "sb.scatterplot(data=df_ger, x=\"education_parents\", y=\"school_type\", alpha=0.05)"
   ]
  },
  {
   "cell_type": "code",
   "execution_count": 237,
   "metadata": {},
   "outputs": [
    {
     "data": {
      "image/png": "[encoded data removed]",
      "text/plain": [
       "<Figure size 648x648 with 7 Axes>"
      ]
     },
     "metadata": {
      "needs_background": "light"
     },
     "output_type": "display_data"
    }
   ],
   "source": [
    "# Plot the Seaborn's FacetGrid\n",
    "g = sb.FacetGrid(data = df_ger, col = 'education_parents', col_wrap=3, sharey = False)\n",
    "g.map(plt.hist, \"school_type\", bins=8)\n",
    "g.set(xticks = df_ger.school_type.value_counts().sort_index().index)\n",
    "\n",
    "for row_val, ax in g.axes_dict.items():\n",
    "    if row_val == \"ISCED 3B, C\" or row_val == \"ISCED 1\" or row_val == \"ISCED 5B\":\n",
    "        ax.set_facecolor(\".95\")\n",
    "    else:\n",
    "        ax.set_facecolor((0, 0, 0, 0))\n",
    "    ax.tick_params(labelrotation=90)\n",
    "        "
   ]
  },
  {
   "cell_type": "markdown",
   "metadata": {},
   "source": [
    "From the plots we cannot derive that there is a correlation between school type and parental education. This is surprising as I expected parents with higher education to influence their kid's school choices."
   ]
  },
  {
   "cell_type": "markdown",
   "metadata": {},
   "source": [
    "### Do students raised by single parents underperform?"
   ]
  },
  {
   "cell_type": "code",
   "execution_count": 238,
   "metadata": {
    "scrolled": true
   },
   "outputs": [
    {
     "data": {
      "text/html": [
       "<div>\n",
       "<style scoped>\n",
       "    .dataframe tbody tr th:only-of-type {\n",
       "        vertical-align: middle;\n",
       "    }\n",
       "\n",
       "    .dataframe tbody tr th {\n",
       "        vertical-align: top;\n",
       "    }\n",
       "\n",
       "    .dataframe thead tr th {\n",
       "        text-align: left;\n",
       "    }\n",
       "\n",
       "    .dataframe thead tr:last-of-type th {\n",
       "        text-align: right;\n",
       "    }\n",
       "</style>\n",
       "<table border=\"1\" class=\"dataframe\">\n",
       "  <thead>\n",
       "    <tr>\n",
       "      <th></th>\n",
       "      <th colspan=\"8\" halign=\"left\">math_score</th>\n",
       "      <th colspan=\"5\" halign=\"left\">reading_score</th>\n",
       "      <th colspan=\"8\" halign=\"left\">science_score</th>\n",
       "    </tr>\n",
       "    <tr>\n",
       "      <th></th>\n",
       "      <th>count</th>\n",
       "      <th>mean</th>\n",
       "      <th>std</th>\n",
       "      <th>min</th>\n",
       "      <th>25%</th>\n",
       "      <th>50%</th>\n",
       "      <th>75%</th>\n",
       "      <th>max</th>\n",
       "      <th>count</th>\n",
       "      <th>mean</th>\n",
       "      <th>...</th>\n",
       "      <th>75%</th>\n",
       "      <th>max</th>\n",
       "      <th>count</th>\n",
       "      <th>mean</th>\n",
       "      <th>std</th>\n",
       "      <th>min</th>\n",
       "      <th>25%</th>\n",
       "      <th>50%</th>\n",
       "      <th>75%</th>\n",
       "      <th>max</th>\n",
       "    </tr>\n",
       "    <tr>\n",
       "      <th>family_structure</th>\n",
       "      <th></th>\n",
       "      <th></th>\n",
       "      <th></th>\n",
       "      <th></th>\n",
       "      <th></th>\n",
       "      <th></th>\n",
       "      <th></th>\n",
       "      <th></th>\n",
       "      <th></th>\n",
       "      <th></th>\n",
       "      <th></th>\n",
       "      <th></th>\n",
       "      <th></th>\n",
       "      <th></th>\n",
       "      <th></th>\n",
       "      <th></th>\n",
       "      <th></th>\n",
       "      <th></th>\n",
       "      <th></th>\n",
       "      <th></th>\n",
       "      <th></th>\n",
       "    </tr>\n",
       "  </thead>\n",
       "  <tbody>\n",
       "    <tr>\n",
       "      <th>Both parents</th>\n",
       "      <td>2814.0</td>\n",
       "      <td>534.857936</td>\n",
       "      <td>93.436258</td>\n",
       "      <td>224.8871</td>\n",
       "      <td>472.550250</td>\n",
       "      <td>539.5778</td>\n",
       "      <td>601.133375</td>\n",
       "      <td>797.0167</td>\n",
       "      <td>2814.0</td>\n",
       "      <td>528.754653</td>\n",
       "      <td>...</td>\n",
       "      <td>590.31535</td>\n",
       "      <td>753.8837</td>\n",
       "      <td>2814.0</td>\n",
       "      <td>545.000944</td>\n",
       "      <td>90.232288</td>\n",
       "      <td>202.1074</td>\n",
       "      <td>486.329700</td>\n",
       "      <td>552.5830</td>\n",
       "      <td>608.672100</td>\n",
       "      <td>782.1149</td>\n",
       "    </tr>\n",
       "    <tr>\n",
       "      <th>Single father/mother</th>\n",
       "      <td>371.0</td>\n",
       "      <td>533.856719</td>\n",
       "      <td>84.990037</td>\n",
       "      <td>243.1921</td>\n",
       "      <td>471.031300</td>\n",
       "      <td>544.0178</td>\n",
       "      <td>596.635000</td>\n",
       "      <td>769.9875</td>\n",
       "      <td>371.0</td>\n",
       "      <td>532.332275</td>\n",
       "      <td>...</td>\n",
       "      <td>593.38105</td>\n",
       "      <td>696.6934</td>\n",
       "      <td>371.0</td>\n",
       "      <td>546.656916</td>\n",
       "      <td>80.793261</td>\n",
       "      <td>268.1276</td>\n",
       "      <td>489.453550</td>\n",
       "      <td>555.5203</td>\n",
       "      <td>601.538600</td>\n",
       "      <td>744.8154</td>\n",
       "    </tr>\n",
       "    <tr>\n",
       "      <th>Other</th>\n",
       "      <td>12.0</td>\n",
       "      <td>382.089633</td>\n",
       "      <td>86.318433</td>\n",
       "      <td>235.4806</td>\n",
       "      <td>329.362075</td>\n",
       "      <td>377.3641</td>\n",
       "      <td>444.508450</td>\n",
       "      <td>519.7928</td>\n",
       "      <td>12.0</td>\n",
       "      <td>403.806092</td>\n",
       "      <td>...</td>\n",
       "      <td>445.53575</td>\n",
       "      <td>600.6613</td>\n",
       "      <td>12.0</td>\n",
       "      <td>388.690483</td>\n",
       "      <td>98.539649</td>\n",
       "      <td>269.8993</td>\n",
       "      <td>331.187025</td>\n",
       "      <td>383.0101</td>\n",
       "      <td>445.976325</td>\n",
       "      <td>619.2093</td>\n",
       "    </tr>\n",
       "  </tbody>\n",
       "</table>\n",
       "<p>3 rows × 24 columns</p>\n",
       "</div>"
      ],
      "text/plain": [
       "                     math_score                                               \\\n",
       "                          count        mean        std       min         25%   \n",
       "family_structure                                                               \n",
       "Both parents             2814.0  534.857936  93.436258  224.8871  472.550250   \n",
       "Single father/mother      371.0  533.856719  84.990037  243.1921  471.031300   \n",
       "Other                      12.0  382.089633  86.318433  235.4806  329.362075   \n",
       "\n",
       "                                                     reading_score  \\\n",
       "                           50%         75%       max         count   \n",
       "family_structure                                                     \n",
       "Both parents          539.5778  601.133375  797.0167        2814.0   \n",
       "Single father/mother  544.0178  596.635000  769.9875         371.0   \n",
       "Other                 377.3641  444.508450  519.7928          12.0   \n",
       "\n",
       "                                  ...                      science_score  \\\n",
       "                            mean  ...        75%       max         count   \n",
       "family_structure                  ...                                      \n",
       "Both parents          528.754653  ...  590.31535  753.8837        2814.0   \n",
       "Single father/mother  532.332275  ...  593.38105  696.6934         371.0   \n",
       "Other                 403.806092  ...  445.53575  600.6613          12.0   \n",
       "\n",
       "                                                                             \\\n",
       "                            mean        std       min         25%       50%   \n",
       "family_structure                                                              \n",
       "Both parents          545.000944  90.232288  202.1074  486.329700  552.5830   \n",
       "Single father/mother  546.656916  80.793261  268.1276  489.453550  555.5203   \n",
       "Other                 388.690483  98.539649  269.8993  331.187025  383.0101   \n",
       "\n",
       "                                            \n",
       "                             75%       max  \n",
       "family_structure                            \n",
       "Both parents          608.672100  782.1149  \n",
       "Single father/mother  601.538600  744.8154  \n",
       "Other                 445.976325  619.2093  \n",
       "\n",
       "[3 rows x 24 columns]"
      ]
     },
     "execution_count": 238,
     "metadata": {},
     "output_type": "execute_result"
    }
   ],
   "source": [
    "df_ger[[\"family_structure\", \"math_score\", \"reading_score\", \"science_score\"]].groupby(\"family_structure\").describe()"
   ]
  },
  {
   "cell_type": "code",
   "execution_count": 239,
   "metadata": {},
   "outputs": [
    {
     "data": {
      "text/plain": [
       "Text(0.5, 0.98, 'Distribution of test score comparing student family structures')"
      ]
     },
     "execution_count": 239,
     "metadata": {},
     "output_type": "execute_result"
    },
    {
     "data": {
      "image/png": "[encoded data removed]",
      "text/plain": [
       "<Figure size 1080x360 with 3 Axes>"
      ]
     },
     "metadata": {
      "needs_background": "light"
     },
     "output_type": "display_data"
    }
   ],
   "source": [
    "fix, axes = plt.subplots(1,3,figsize=(15,5))\n",
    "sb.boxplot(x=\"family_structure\", y=\"math_score\", data=df_ger, ax=axes[0], color=color)\n",
    "sb.boxplot(x=\"family_structure\", y=\"reading_score\", data=df_ger, ax=axes[1], color=color)\n",
    "sb.boxplot(x=\"family_structure\", y=\"science_score\", data=df_ger, ax=axes[2], color=color)\n",
    "\n",
    "\"\"\"Set xlabels to destinguish plot target (math, reading, science)\"\"\"\n",
    "axes[0].set_xlabel(\"Math\")\n",
    "axes[1].set_xlabel(\"Reading\")\n",
    "axes[2].set_xlabel(\"Science\")\n",
    "axes[0].set_ylabel(\"Score\")\n",
    "axes[1].set_ylabel(\"Score\")\n",
    "axes[2].set_ylabel(\"Score\")\n",
    "\n",
    "\"\"\"Set plot title\"\"\"\n",
    "plt.suptitle('Distribution of test score comparing student family structures')"
   ]
  },
  {
   "cell_type": "markdown",
   "metadata": {},
   "source": [
    "Above boxplots suggest that the availability of both parents does not have an influence on students school performances. Students raised by a single parent (father or mother) perform equally well in all three test subjects. This is counter-intuitive, since I expected kids' performances to depend on support given by their parents and single parents tend to have less time for their kids as they have to juggle several responsibilities on their own.\n",
    "\n",
    "Nevetheless, students living in `other` familily structures (no parents, living with grandparents etc.) tend to perform significally lower compared to the othe two categories. Finding reasons for this could be open for further research."
   ]
  },
  {
   "cell_type": "markdown",
   "metadata": {},
   "source": [
    "### Is the type of school important?"
   ]
  },
  {
   "cell_type": "code",
   "execution_count": 240,
   "metadata": {},
   "outputs": [
    {
     "data": {
      "text/html": [
       "<div>\n",
       "<style scoped>\n",
       "    .dataframe tbody tr th:only-of-type {\n",
       "        vertical-align: middle;\n",
       "    }\n",
       "\n",
       "    .dataframe tbody tr th {\n",
       "        vertical-align: top;\n",
       "    }\n",
       "\n",
       "    .dataframe thead tr th {\n",
       "        text-align: left;\n",
       "    }\n",
       "\n",
       "    .dataframe thead tr:last-of-type th {\n",
       "        text-align: right;\n",
       "    }\n",
       "</style>\n",
       "<table border=\"1\" class=\"dataframe\">\n",
       "  <thead>\n",
       "    <tr>\n",
       "      <th></th>\n",
       "      <th colspan=\"8\" halign=\"left\">math_score</th>\n",
       "      <th colspan=\"5\" halign=\"left\">reading_score</th>\n",
       "      <th colspan=\"8\" halign=\"left\">science_score</th>\n",
       "    </tr>\n",
       "    <tr>\n",
       "      <th></th>\n",
       "      <th>count</th>\n",
       "      <th>mean</th>\n",
       "      <th>std</th>\n",
       "      <th>min</th>\n",
       "      <th>25%</th>\n",
       "      <th>50%</th>\n",
       "      <th>75%</th>\n",
       "      <th>max</th>\n",
       "      <th>count</th>\n",
       "      <th>mean</th>\n",
       "      <th>...</th>\n",
       "      <th>75%</th>\n",
       "      <th>max</th>\n",
       "      <th>count</th>\n",
       "      <th>mean</th>\n",
       "      <th>std</th>\n",
       "      <th>min</th>\n",
       "      <th>25%</th>\n",
       "      <th>50%</th>\n",
       "      <th>75%</th>\n",
       "      <th>max</th>\n",
       "    </tr>\n",
       "    <tr>\n",
       "      <th>school_type</th>\n",
       "      <th></th>\n",
       "      <th></th>\n",
       "      <th></th>\n",
       "      <th></th>\n",
       "      <th></th>\n",
       "      <th></th>\n",
       "      <th></th>\n",
       "      <th></th>\n",
       "      <th></th>\n",
       "      <th></th>\n",
       "      <th></th>\n",
       "      <th></th>\n",
       "      <th></th>\n",
       "      <th></th>\n",
       "      <th></th>\n",
       "      <th></th>\n",
       "      <th></th>\n",
       "      <th></th>\n",
       "      <th></th>\n",
       "      <th></th>\n",
       "      <th></th>\n",
       "    </tr>\n",
       "  </thead>\n",
       "  <tbody>\n",
       "    <tr>\n",
       "      <th>Special school</th>\n",
       "      <td>54.0</td>\n",
       "      <td>360.292365</td>\n",
       "      <td>63.687774</td>\n",
       "      <td>224.8871</td>\n",
       "      <td>316.606925</td>\n",
       "      <td>360.42220</td>\n",
       "      <td>391.190200</td>\n",
       "      <td>506.8624</td>\n",
       "      <td>54.0</td>\n",
       "      <td>359.347863</td>\n",
       "      <td>...</td>\n",
       "      <td>397.317875</td>\n",
       "      <td>475.9546</td>\n",
       "      <td>54.0</td>\n",
       "      <td>364.843828</td>\n",
       "      <td>73.758739</td>\n",
       "      <td>202.1074</td>\n",
       "      <td>324.496475</td>\n",
       "      <td>375.08395</td>\n",
       "      <td>419.377100</td>\n",
       "      <td>525.6807</td>\n",
       "    </tr>\n",
       "    <tr>\n",
       "      <th>Main school</th>\n",
       "      <td>271.0</td>\n",
       "      <td>433.225248</td>\n",
       "      <td>75.385871</td>\n",
       "      <td>235.4806</td>\n",
       "      <td>382.193500</td>\n",
       "      <td>428.65710</td>\n",
       "      <td>485.285850</td>\n",
       "      <td>677.2940</td>\n",
       "      <td>271.0</td>\n",
       "      <td>428.888704</td>\n",
       "      <td>...</td>\n",
       "      <td>471.717950</td>\n",
       "      <td>627.0226</td>\n",
       "      <td>271.0</td>\n",
       "      <td>446.598861</td>\n",
       "      <td>77.465560</td>\n",
       "      <td>236.4230</td>\n",
       "      <td>392.754550</td>\n",
       "      <td>448.09770</td>\n",
       "      <td>500.410300</td>\n",
       "      <td>677.6762</td>\n",
       "    </tr>\n",
       "    <tr>\n",
       "      <th>Middle school</th>\n",
       "      <td>1067.0</td>\n",
       "      <td>508.836138</td>\n",
       "      <td>70.571781</td>\n",
       "      <td>293.9788</td>\n",
       "      <td>459.736700</td>\n",
       "      <td>507.32980</td>\n",
       "      <td>557.804950</td>\n",
       "      <td>703.5442</td>\n",
       "      <td>1067.0</td>\n",
       "      <td>508.182284</td>\n",
       "      <td>...</td>\n",
       "      <td>552.325400</td>\n",
       "      <td>702.2535</td>\n",
       "      <td>1067.0</td>\n",
       "      <td>523.487839</td>\n",
       "      <td>71.370293</td>\n",
       "      <td>299.0862</td>\n",
       "      <td>474.860150</td>\n",
       "      <td>524.46850</td>\n",
       "      <td>573.610600</td>\n",
       "      <td>725.0466</td>\n",
       "    </tr>\n",
       "    <tr>\n",
       "      <th>Integrated school</th>\n",
       "      <td>342.0</td>\n",
       "      <td>474.864505</td>\n",
       "      <td>77.850099</td>\n",
       "      <td>245.5289</td>\n",
       "      <td>421.763525</td>\n",
       "      <td>471.10920</td>\n",
       "      <td>529.178975</td>\n",
       "      <td>687.9654</td>\n",
       "      <td>342.0</td>\n",
       "      <td>477.137215</td>\n",
       "      <td>...</td>\n",
       "      <td>522.228450</td>\n",
       "      <td>661.7437</td>\n",
       "      <td>342.0</td>\n",
       "      <td>494.785647</td>\n",
       "      <td>76.167675</td>\n",
       "      <td>263.4651</td>\n",
       "      <td>446.652375</td>\n",
       "      <td>494.90860</td>\n",
       "      <td>542.348900</td>\n",
       "      <td>696.6990</td>\n",
       "    </tr>\n",
       "    <tr>\n",
       "      <th>High school</th>\n",
       "      <td>1404.0</td>\n",
       "      <td>595.855442</td>\n",
       "      <td>67.379250</td>\n",
       "      <td>369.4579</td>\n",
       "      <td>550.405000</td>\n",
       "      <td>596.12870</td>\n",
       "      <td>642.787000</td>\n",
       "      <td>797.0167</td>\n",
       "      <td>1404.0</td>\n",
       "      <td>585.381625</td>\n",
       "      <td>...</td>\n",
       "      <td>623.636650</td>\n",
       "      <td>753.8837</td>\n",
       "      <td>1404.0</td>\n",
       "      <td>601.153987</td>\n",
       "      <td>63.849044</td>\n",
       "      <td>363.3346</td>\n",
       "      <td>559.320200</td>\n",
       "      <td>600.93250</td>\n",
       "      <td>642.101850</td>\n",
       "      <td>782.1149</td>\n",
       "    </tr>\n",
       "    <tr>\n",
       "      <th>Vocational preparation</th>\n",
       "      <td>13.0</td>\n",
       "      <td>433.516485</td>\n",
       "      <td>72.992623</td>\n",
       "      <td>326.6163</td>\n",
       "      <td>362.369500</td>\n",
       "      <td>431.85080</td>\n",
       "      <td>499.618300</td>\n",
       "      <td>533.9695</td>\n",
       "      <td>13.0</td>\n",
       "      <td>402.823431</td>\n",
       "      <td>...</td>\n",
       "      <td>454.123200</td>\n",
       "      <td>489.1682</td>\n",
       "      <td>13.0</td>\n",
       "      <td>442.560177</td>\n",
       "      <td>72.790015</td>\n",
       "      <td>298.8064</td>\n",
       "      <td>393.453900</td>\n",
       "      <td>448.65720</td>\n",
       "      <td>493.230100</td>\n",
       "      <td>572.3051</td>\n",
       "    </tr>\n",
       "    <tr>\n",
       "      <th>Vocational school</th>\n",
       "      <td>20.0</td>\n",
       "      <td>536.193335</td>\n",
       "      <td>77.105212</td>\n",
       "      <td>347.8034</td>\n",
       "      <td>513.717075</td>\n",
       "      <td>538.40940</td>\n",
       "      <td>593.636075</td>\n",
       "      <td>657.6647</td>\n",
       "      <td>20.0</td>\n",
       "      <td>500.909235</td>\n",
       "      <td>...</td>\n",
       "      <td>543.755975</td>\n",
       "      <td>682.4752</td>\n",
       "      <td>20.0</td>\n",
       "      <td>524.100155</td>\n",
       "      <td>70.553155</td>\n",
       "      <td>397.9299</td>\n",
       "      <td>459.753850</td>\n",
       "      <td>531.83515</td>\n",
       "      <td>575.801950</td>\n",
       "      <td>649.7016</td>\n",
       "    </tr>\n",
       "    <tr>\n",
       "      <th>Vocational college</th>\n",
       "      <td>26.0</td>\n",
       "      <td>484.764565</td>\n",
       "      <td>63.556553</td>\n",
       "      <td>339.7803</td>\n",
       "      <td>430.955000</td>\n",
       "      <td>488.20685</td>\n",
       "      <td>535.118375</td>\n",
       "      <td>586.7814</td>\n",
       "      <td>26.0</td>\n",
       "      <td>464.646196</td>\n",
       "      <td>...</td>\n",
       "      <td>502.822125</td>\n",
       "      <td>553.7970</td>\n",
       "      <td>26.0</td>\n",
       "      <td>474.734600</td>\n",
       "      <td>60.397215</td>\n",
       "      <td>355.7814</td>\n",
       "      <td>425.065300</td>\n",
       "      <td>488.33460</td>\n",
       "      <td>516.565625</td>\n",
       "      <td>569.7874</td>\n",
       "    </tr>\n",
       "  </tbody>\n",
       "</table>\n",
       "<p>8 rows × 24 columns</p>\n",
       "</div>"
      ],
      "text/plain": [
       "                       math_score                                   \\\n",
       "                            count        mean        std       min   \n",
       "school_type                                                          \n",
       "Special school               54.0  360.292365  63.687774  224.8871   \n",
       "Main school                 271.0  433.225248  75.385871  235.4806   \n",
       "Middle school              1067.0  508.836138  70.571781  293.9788   \n",
       "Integrated school           342.0  474.864505  77.850099  245.5289   \n",
       "High school                1404.0  595.855442  67.379250  369.4579   \n",
       "Vocational preparation       13.0  433.516485  72.992623  326.6163   \n",
       "Vocational school            20.0  536.193335  77.105212  347.8034   \n",
       "Vocational college           26.0  484.764565  63.556553  339.7803   \n",
       "\n",
       "                                                                     \\\n",
       "                               25%        50%         75%       max   \n",
       "school_type                                                           \n",
       "Special school          316.606925  360.42220  391.190200  506.8624   \n",
       "Main school             382.193500  428.65710  485.285850  677.2940   \n",
       "Middle school           459.736700  507.32980  557.804950  703.5442   \n",
       "Integrated school       421.763525  471.10920  529.178975  687.9654   \n",
       "High school             550.405000  596.12870  642.787000  797.0167   \n",
       "Vocational preparation  362.369500  431.85080  499.618300  533.9695   \n",
       "Vocational school       513.717075  538.40940  593.636075  657.6647   \n",
       "Vocational college      430.955000  488.20685  535.118375  586.7814   \n",
       "\n",
       "                       reading_score              ...                        \\\n",
       "                               count        mean  ...         75%       max   \n",
       "school_type                                       ...                         \n",
       "Special school                  54.0  359.347863  ...  397.317875  475.9546   \n",
       "Main school                    271.0  428.888704  ...  471.717950  627.0226   \n",
       "Middle school                 1067.0  508.182284  ...  552.325400  702.2535   \n",
       "Integrated school              342.0  477.137215  ...  522.228450  661.7437   \n",
       "High school                   1404.0  585.381625  ...  623.636650  753.8837   \n",
       "Vocational preparation          13.0  402.823431  ...  454.123200  489.1682   \n",
       "Vocational school               20.0  500.909235  ...  543.755975  682.4752   \n",
       "Vocational college              26.0  464.646196  ...  502.822125  553.7970   \n",
       "\n",
       "                       science_score                                   \\\n",
       "                               count        mean        std       min   \n",
       "school_type                                                             \n",
       "Special school                  54.0  364.843828  73.758739  202.1074   \n",
       "Main school                    271.0  446.598861  77.465560  236.4230   \n",
       "Middle school                 1067.0  523.487839  71.370293  299.0862   \n",
       "Integrated school              342.0  494.785647  76.167675  263.4651   \n",
       "High school                   1404.0  601.153987  63.849044  363.3346   \n",
       "Vocational preparation          13.0  442.560177  72.790015  298.8064   \n",
       "Vocational school               20.0  524.100155  70.553155  397.9299   \n",
       "Vocational college              26.0  474.734600  60.397215  355.7814   \n",
       "\n",
       "                                                                     \n",
       "                               25%        50%         75%       max  \n",
       "school_type                                                          \n",
       "Special school          324.496475  375.08395  419.377100  525.6807  \n",
       "Main school             392.754550  448.09770  500.410300  677.6762  \n",
       "Middle school           474.860150  524.46850  573.610600  725.0466  \n",
       "Integrated school       446.652375  494.90860  542.348900  696.6990  \n",
       "High school             559.320200  600.93250  642.101850  782.1149  \n",
       "Vocational preparation  393.453900  448.65720  493.230100  572.3051  \n",
       "Vocational school       459.753850  531.83515  575.801950  649.7016  \n",
       "Vocational college      425.065300  488.33460  516.565625  569.7874  \n",
       "\n",
       "[8 rows x 24 columns]"
      ]
     },
     "execution_count": 240,
     "metadata": {},
     "output_type": "execute_result"
    }
   ],
   "source": [
    "df_ger[[\"school_type\", \"math_score\", \"reading_score\", \"science_score\"]].groupby(\"school_type\").describe()"
   ]
  },
  {
   "cell_type": "code",
   "execution_count": 241,
   "metadata": {
    "scrolled": false
   },
   "outputs": [
    {
     "data": {
      "text/plain": [
       "Text(0.5, 0.9, 'Distribution of test score comparing school types')"
      ]
     },
     "execution_count": 241,
     "metadata": {},
     "output_type": "execute_result"
    },
    {
     "data": {
      "image/png": "[encoded data removed]",
      "text/plain": [
       "<Figure size 720x1080 with 3 Axes>"
      ]
     },
     "metadata": {
      "needs_background": "light"
     },
     "output_type": "display_data"
    }
   ],
   "source": [
    "fix, axes = plt.subplots(3,1,figsize=(10,15))\n",
    "sb.boxplot(y=\"school_type\", x=\"math_score\", data=df_ger, ax=axes[0], color=color)\n",
    "sb.boxplot(y=\"school_type\", x=\"reading_score\", data=df_ger, ax=axes[1], color=color)\n",
    "sb.boxplot(y=\"school_type\", x=\"science_score\", data=df_ger, ax=axes[2], color=color)\n",
    "\n",
    "\"\"\"Set xlabels to destinguish plot target (math, reading, science)\"\"\"\n",
    "axes[0].set_xlabel(\"Math score\")\n",
    "axes[1].set_xlabel(\"Reading score\")\n",
    "axes[2].set_xlabel(\"Science score\")\n",
    "axes[0].set_ylabel(\"School type\")\n",
    "axes[1].set_ylabel(\"School type\")\n",
    "axes[2].set_ylabel(\"School type\")\n",
    "\n",
    "\n",
    "\"\"\"Set plot title\"\"\"\n",
    "plt.suptitle('Distribution of test score comparing school types', y=0.9)"
   ]
  },
  {
   "cell_type": "markdown",
   "metadata": {},
   "source": [
    "### Does the education of parents affect test scores of their children?"
   ]
  },
  {
   "cell_type": "code",
   "execution_count": 242,
   "metadata": {},
   "outputs": [
    {
     "data": {
      "text/html": [
       "<div>\n",
       "<style scoped>\n",
       "    .dataframe tbody tr th:only-of-type {\n",
       "        vertical-align: middle;\n",
       "    }\n",
       "\n",
       "    .dataframe tbody tr th {\n",
       "        vertical-align: top;\n",
       "    }\n",
       "\n",
       "    .dataframe thead tr th {\n",
       "        text-align: left;\n",
       "    }\n",
       "\n",
       "    .dataframe thead tr:last-of-type th {\n",
       "        text-align: right;\n",
       "    }\n",
       "</style>\n",
       "<table border=\"1\" class=\"dataframe\">\n",
       "  <thead>\n",
       "    <tr>\n",
       "      <th></th>\n",
       "      <th colspan=\"8\" halign=\"left\">math_score</th>\n",
       "      <th colspan=\"5\" halign=\"left\">reading_score</th>\n",
       "      <th colspan=\"8\" halign=\"left\">science_score</th>\n",
       "    </tr>\n",
       "    <tr>\n",
       "      <th></th>\n",
       "      <th>count</th>\n",
       "      <th>mean</th>\n",
       "      <th>std</th>\n",
       "      <th>min</th>\n",
       "      <th>25%</th>\n",
       "      <th>50%</th>\n",
       "      <th>75%</th>\n",
       "      <th>max</th>\n",
       "      <th>count</th>\n",
       "      <th>mean</th>\n",
       "      <th>...</th>\n",
       "      <th>75%</th>\n",
       "      <th>max</th>\n",
       "      <th>count</th>\n",
       "      <th>mean</th>\n",
       "      <th>std</th>\n",
       "      <th>min</th>\n",
       "      <th>25%</th>\n",
       "      <th>50%</th>\n",
       "      <th>75%</th>\n",
       "      <th>max</th>\n",
       "    </tr>\n",
       "    <tr>\n",
       "      <th>education_parents</th>\n",
       "      <th></th>\n",
       "      <th></th>\n",
       "      <th></th>\n",
       "      <th></th>\n",
       "      <th></th>\n",
       "      <th></th>\n",
       "      <th></th>\n",
       "      <th></th>\n",
       "      <th></th>\n",
       "      <th></th>\n",
       "      <th></th>\n",
       "      <th></th>\n",
       "      <th></th>\n",
       "      <th></th>\n",
       "      <th></th>\n",
       "      <th></th>\n",
       "      <th></th>\n",
       "      <th></th>\n",
       "      <th></th>\n",
       "      <th></th>\n",
       "      <th></th>\n",
       "    </tr>\n",
       "  </thead>\n",
       "  <tbody>\n",
       "    <tr>\n",
       "      <th>ISCED 5B</th>\n",
       "      <td>623.0</td>\n",
       "      <td>527.491906</td>\n",
       "      <td>90.128330</td>\n",
       "      <td>224.8871</td>\n",
       "      <td>464.955600</td>\n",
       "      <td>531.71050</td>\n",
       "      <td>591.29930</td>\n",
       "      <td>797.0167</td>\n",
       "      <td>623.0</td>\n",
       "      <td>528.723153</td>\n",
       "      <td>...</td>\n",
       "      <td>583.09495</td>\n",
       "      <td>725.6619</td>\n",
       "      <td>623.0</td>\n",
       "      <td>542.956738</td>\n",
       "      <td>84.496243</td>\n",
       "      <td>310.2760</td>\n",
       "      <td>487.914950</td>\n",
       "      <td>547.9672</td>\n",
       "      <td>601.39870</td>\n",
       "      <td>771.5778</td>\n",
       "    </tr>\n",
       "    <tr>\n",
       "      <th>ISCED 5A, 6</th>\n",
       "      <td>1112.0</td>\n",
       "      <td>564.426344</td>\n",
       "      <td>90.840685</td>\n",
       "      <td>257.7582</td>\n",
       "      <td>514.340200</td>\n",
       "      <td>573.53950</td>\n",
       "      <td>625.02730</td>\n",
       "      <td>776.8422</td>\n",
       "      <td>1112.0</td>\n",
       "      <td>551.619374</td>\n",
       "      <td>...</td>\n",
       "      <td>609.95470</td>\n",
       "      <td>753.8837</td>\n",
       "      <td>1112.0</td>\n",
       "      <td>573.152230</td>\n",
       "      <td>87.523757</td>\n",
       "      <td>258.9892</td>\n",
       "      <td>524.678275</td>\n",
       "      <td>583.5416</td>\n",
       "      <td>631.05180</td>\n",
       "      <td>773.1630</td>\n",
       "    </tr>\n",
       "    <tr>\n",
       "      <th>ISCED 3B, C</th>\n",
       "      <td>103.0</td>\n",
       "      <td>512.666656</td>\n",
       "      <td>84.065935</td>\n",
       "      <td>331.2899</td>\n",
       "      <td>453.738900</td>\n",
       "      <td>508.18660</td>\n",
       "      <td>576.11000</td>\n",
       "      <td>695.2095</td>\n",
       "      <td>103.0</td>\n",
       "      <td>508.648985</td>\n",
       "      <td>...</td>\n",
       "      <td>569.92125</td>\n",
       "      <td>677.5505</td>\n",
       "      <td>103.0</td>\n",
       "      <td>522.397096</td>\n",
       "      <td>86.804926</td>\n",
       "      <td>306.5461</td>\n",
       "      <td>459.380800</td>\n",
       "      <td>517.2883</td>\n",
       "      <td>598.22830</td>\n",
       "      <td>702.5737</td>\n",
       "    </tr>\n",
       "    <tr>\n",
       "      <th>ISCED 3A, ISCED 4</th>\n",
       "      <td>719.0</td>\n",
       "      <td>533.103100</td>\n",
       "      <td>86.438832</td>\n",
       "      <td>235.4806</td>\n",
       "      <td>476.406000</td>\n",
       "      <td>535.37160</td>\n",
       "      <td>593.83085</td>\n",
       "      <td>767.5728</td>\n",
       "      <td>719.0</td>\n",
       "      <td>531.425269</td>\n",
       "      <td>...</td>\n",
       "      <td>586.68140</td>\n",
       "      <td>700.1883</td>\n",
       "      <td>719.0</td>\n",
       "      <td>543.280095</td>\n",
       "      <td>81.367110</td>\n",
       "      <td>202.1074</td>\n",
       "      <td>491.365150</td>\n",
       "      <td>548.9929</td>\n",
       "      <td>597.48230</td>\n",
       "      <td>775.5875</td>\n",
       "    </tr>\n",
       "    <tr>\n",
       "      <th>ISCED 2</th>\n",
       "      <td>619.0</td>\n",
       "      <td>495.266968</td>\n",
       "      <td>88.762394</td>\n",
       "      <td>276.2969</td>\n",
       "      <td>434.810700</td>\n",
       "      <td>493.23100</td>\n",
       "      <td>560.68700</td>\n",
       "      <td>795.2251</td>\n",
       "      <td>619.0</td>\n",
       "      <td>491.515363</td>\n",
       "      <td>...</td>\n",
       "      <td>546.30090</td>\n",
       "      <td>721.2375</td>\n",
       "      <td>619.0</td>\n",
       "      <td>505.121995</td>\n",
       "      <td>87.493684</td>\n",
       "      <td>221.6897</td>\n",
       "      <td>448.610600</td>\n",
       "      <td>505.3525</td>\n",
       "      <td>565.73105</td>\n",
       "      <td>782.1149</td>\n",
       "    </tr>\n",
       "    <tr>\n",
       "      <th>ISCED 1</th>\n",
       "      <td>3.0</td>\n",
       "      <td>325.863333</td>\n",
       "      <td>53.170724</td>\n",
       "      <td>277.8548</td>\n",
       "      <td>297.289300</td>\n",
       "      <td>316.72380</td>\n",
       "      <td>349.86760</td>\n",
       "      <td>383.0114</td>\n",
       "      <td>3.0</td>\n",
       "      <td>332.919300</td>\n",
       "      <td>...</td>\n",
       "      <td>344.40705</td>\n",
       "      <td>346.4820</td>\n",
       "      <td>3.0</td>\n",
       "      <td>307.509633</td>\n",
       "      <td>72.272934</td>\n",
       "      <td>234.7445</td>\n",
       "      <td>271.624400</td>\n",
       "      <td>308.5043</td>\n",
       "      <td>343.89220</td>\n",
       "      <td>379.2801</td>\n",
       "    </tr>\n",
       "    <tr>\n",
       "      <th>None</th>\n",
       "      <td>18.0</td>\n",
       "      <td>434.053422</td>\n",
       "      <td>63.931825</td>\n",
       "      <td>310.9597</td>\n",
       "      <td>391.813375</td>\n",
       "      <td>430.95495</td>\n",
       "      <td>481.52750</td>\n",
       "      <td>527.5822</td>\n",
       "      <td>18.0</td>\n",
       "      <td>429.382744</td>\n",
       "      <td>...</td>\n",
       "      <td>482.88140</td>\n",
       "      <td>549.7460</td>\n",
       "      <td>18.0</td>\n",
       "      <td>415.610883</td>\n",
       "      <td>80.675108</td>\n",
       "      <td>284.8191</td>\n",
       "      <td>350.909200</td>\n",
       "      <td>426.0444</td>\n",
       "      <td>479.47590</td>\n",
       "      <td>553.8419</td>\n",
       "    </tr>\n",
       "  </tbody>\n",
       "</table>\n",
       "<p>7 rows × 24 columns</p>\n",
       "</div>"
      ],
      "text/plain": [
       "                  math_score                                               \\\n",
       "                       count        mean        std       min         25%   \n",
       "education_parents                                                           \n",
       "ISCED 5B               623.0  527.491906  90.128330  224.8871  464.955600   \n",
       "ISCED 5A, 6           1112.0  564.426344  90.840685  257.7582  514.340200   \n",
       "ISCED 3B, C            103.0  512.666656  84.065935  331.2899  453.738900   \n",
       "ISCED 3A, ISCED 4      719.0  533.103100  86.438832  235.4806  476.406000   \n",
       "ISCED 2                619.0  495.266968  88.762394  276.2969  434.810700   \n",
       "ISCED 1                  3.0  325.863333  53.170724  277.8548  297.289300   \n",
       "None                    18.0  434.053422  63.931825  310.9597  391.813375   \n",
       "\n",
       "                                                  reading_score              \\\n",
       "                         50%        75%       max         count        mean   \n",
       "education_parents                                                             \n",
       "ISCED 5B           531.71050  591.29930  797.0167         623.0  528.723153   \n",
       "ISCED 5A, 6        573.53950  625.02730  776.8422        1112.0  551.619374   \n",
       "ISCED 3B, C        508.18660  576.11000  695.2095         103.0  508.648985   \n",
       "ISCED 3A, ISCED 4  535.37160  593.83085  767.5728         719.0  531.425269   \n",
       "ISCED 2            493.23100  560.68700  795.2251         619.0  491.515363   \n",
       "ISCED 1            316.72380  349.86760  383.0114           3.0  332.919300   \n",
       "None               430.95495  481.52750  527.5822          18.0  429.382744   \n",
       "\n",
       "                   ...                      science_score              \\\n",
       "                   ...        75%       max         count        mean   \n",
       "education_parents  ...                                                  \n",
       "ISCED 5B           ...  583.09495  725.6619         623.0  542.956738   \n",
       "ISCED 5A, 6        ...  609.95470  753.8837        1112.0  573.152230   \n",
       "ISCED 3B, C        ...  569.92125  677.5505         103.0  522.397096   \n",
       "ISCED 3A, ISCED 4  ...  586.68140  700.1883         719.0  543.280095   \n",
       "ISCED 2            ...  546.30090  721.2375         619.0  505.121995   \n",
       "ISCED 1            ...  344.40705  346.4820           3.0  307.509633   \n",
       "None               ...  482.88140  549.7460          18.0  415.610883   \n",
       "\n",
       "                                                                         \\\n",
       "                         std       min         25%       50%        75%   \n",
       "education_parents                                                         \n",
       "ISCED 5B           84.496243  310.2760  487.914950  547.9672  601.39870   \n",
       "ISCED 5A, 6        87.523757  258.9892  524.678275  583.5416  631.05180   \n",
       "ISCED 3B, C        86.804926  306.5461  459.380800  517.2883  598.22830   \n",
       "ISCED 3A, ISCED 4  81.367110  202.1074  491.365150  548.9929  597.48230   \n",
       "ISCED 2            87.493684  221.6897  448.610600  505.3525  565.73105   \n",
       "ISCED 1            72.272934  234.7445  271.624400  308.5043  343.89220   \n",
       "None               80.675108  284.8191  350.909200  426.0444  479.47590   \n",
       "\n",
       "                             \n",
       "                        max  \n",
       "education_parents            \n",
       "ISCED 5B           771.5778  \n",
       "ISCED 5A, 6        773.1630  \n",
       "ISCED 3B, C        702.5737  \n",
       "ISCED 3A, ISCED 4  775.5875  \n",
       "ISCED 2            782.1149  \n",
       "ISCED 1            379.2801  \n",
       "None               553.8419  \n",
       "\n",
       "[7 rows x 24 columns]"
      ]
     },
     "execution_count": 242,
     "metadata": {},
     "output_type": "execute_result"
    }
   ],
   "source": [
    "df_ger[[\"education_parents\", \"math_score\", \"reading_score\", \"science_score\"]].groupby(\"education_parents\").describe()"
   ]
  },
  {
   "cell_type": "code",
   "execution_count": 243,
   "metadata": {},
   "outputs": [
    {
     "data": {
      "image/png": "[encoded data removed]",
      "text/plain": [
       "<Figure size 1152x576 with 1 Axes>"
      ]
     },
     "metadata": {
      "needs_background": "light"
     },
     "output_type": "display_data"
    }
   ],
   "source": [
    "plt.figure(figsize=(16,8))\n",
    "\n",
    "df_scores = df_ger.melt('education_parents', value_vars=['math_score','reading_score','science_score'], \n",
    "               var_name=\"score_type\", value_name='score_value')\n",
    "point = sb.pointplot(y=\"score_value\", x=\"education_parents\", order=education_categories.categories, data=df_scores, markers=[\"x\",\"*\",\".\"], linestyles=[\"-\", \"--\", \"-.\"],  hue=\"score_type\")\n",
    "plt.title(\"PISA test scores vs. Parent education\")\n",
    "plt.xlabel(\"Highest level of education of parents (combined)\")\n",
    "plt.ylabel(\"PISA test scores\")\n",
    "new_labels = [\"Math score\", \"Reading score\", \"Science score\"]\n",
    "for t, l in zip(point.legend().texts, new_labels): t.set_text(l)"
   ]
  },
  {
   "cell_type": "markdown",
   "metadata": {},
   "source": [
    "The plot shows indication that education of parents has influence on the test scores of the student. It gives rise to the assumption that higher educated parents pass on their knowledge onto their kids. Also it seems that no education is better than special school education. Reasons for this can be manifold and would need additional data. "
   ]
  },
  {
   "cell_type": "markdown",
   "metadata": {},
   "source": [
    "### Is school harder for immigrants?"
   ]
  },
  {
   "cell_type": "code",
   "execution_count": 244,
   "metadata": {},
   "outputs": [
    {
     "data": {
      "text/html": [
       "<div>\n",
       "<style scoped>\n",
       "    .dataframe tbody tr th:only-of-type {\n",
       "        vertical-align: middle;\n",
       "    }\n",
       "\n",
       "    .dataframe tbody tr th {\n",
       "        vertical-align: top;\n",
       "    }\n",
       "\n",
       "    .dataframe thead tr th {\n",
       "        text-align: left;\n",
       "    }\n",
       "\n",
       "    .dataframe thead tr:last-of-type th {\n",
       "        text-align: right;\n",
       "    }\n",
       "</style>\n",
       "<table border=\"1\" class=\"dataframe\">\n",
       "  <thead>\n",
       "    <tr>\n",
       "      <th></th>\n",
       "      <th colspan=\"8\" halign=\"left\">math_score</th>\n",
       "      <th colspan=\"5\" halign=\"left\">reading_score</th>\n",
       "      <th colspan=\"8\" halign=\"left\">science_score</th>\n",
       "    </tr>\n",
       "    <tr>\n",
       "      <th></th>\n",
       "      <th>count</th>\n",
       "      <th>mean</th>\n",
       "      <th>std</th>\n",
       "      <th>min</th>\n",
       "      <th>25%</th>\n",
       "      <th>50%</th>\n",
       "      <th>75%</th>\n",
       "      <th>max</th>\n",
       "      <th>count</th>\n",
       "      <th>mean</th>\n",
       "      <th>...</th>\n",
       "      <th>75%</th>\n",
       "      <th>max</th>\n",
       "      <th>count</th>\n",
       "      <th>mean</th>\n",
       "      <th>std</th>\n",
       "      <th>min</th>\n",
       "      <th>25%</th>\n",
       "      <th>50%</th>\n",
       "      <th>75%</th>\n",
       "      <th>max</th>\n",
       "    </tr>\n",
       "    <tr>\n",
       "      <th>immigration_status</th>\n",
       "      <th></th>\n",
       "      <th></th>\n",
       "      <th></th>\n",
       "      <th></th>\n",
       "      <th></th>\n",
       "      <th></th>\n",
       "      <th></th>\n",
       "      <th></th>\n",
       "      <th></th>\n",
       "      <th></th>\n",
       "      <th></th>\n",
       "      <th></th>\n",
       "      <th></th>\n",
       "      <th></th>\n",
       "      <th></th>\n",
       "      <th></th>\n",
       "      <th></th>\n",
       "      <th></th>\n",
       "      <th></th>\n",
       "      <th></th>\n",
       "      <th></th>\n",
       "    </tr>\n",
       "  </thead>\n",
       "  <tbody>\n",
       "    <tr>\n",
       "      <th>Native</th>\n",
       "      <td>2902.0</td>\n",
       "      <td>539.323494</td>\n",
       "      <td>91.342680</td>\n",
       "      <td>224.8871</td>\n",
       "      <td>477.399125</td>\n",
       "      <td>544.71880</td>\n",
       "      <td>604.69700</td>\n",
       "      <td>797.0167</td>\n",
       "      <td>2902.0</td>\n",
       "      <td>532.706911</td>\n",
       "      <td>...</td>\n",
       "      <td>593.350425</td>\n",
       "      <td>753.8837</td>\n",
       "      <td>2902.0</td>\n",
       "      <td>550.570495</td>\n",
       "      <td>87.097113</td>\n",
       "      <td>202.1074</td>\n",
       "      <td>494.652200</td>\n",
       "      <td>557.6651</td>\n",
       "      <td>611.46960</td>\n",
       "      <td>782.1149</td>\n",
       "    </tr>\n",
       "    <tr>\n",
       "      <th>Second-Generation</th>\n",
       "      <td>249.0</td>\n",
       "      <td>486.669186</td>\n",
       "      <td>91.693445</td>\n",
       "      <td>248.8004</td>\n",
       "      <td>415.648900</td>\n",
       "      <td>484.89640</td>\n",
       "      <td>557.18180</td>\n",
       "      <td>740.3879</td>\n",
       "      <td>249.0</td>\n",
       "      <td>494.983058</td>\n",
       "      <td>...</td>\n",
       "      <td>548.236800</td>\n",
       "      <td>677.7093</td>\n",
       "      <td>249.0</td>\n",
       "      <td>488.902496</td>\n",
       "      <td>92.547848</td>\n",
       "      <td>221.6897</td>\n",
       "      <td>429.448000</td>\n",
       "      <td>490.9922</td>\n",
       "      <td>555.52030</td>\n",
       "      <td>722.5289</td>\n",
       "    </tr>\n",
       "    <tr>\n",
       "      <th>First-Generation</th>\n",
       "      <td>46.0</td>\n",
       "      <td>466.059661</td>\n",
       "      <td>100.008020</td>\n",
       "      <td>235.4806</td>\n",
       "      <td>404.607450</td>\n",
       "      <td>462.57985</td>\n",
       "      <td>539.57785</td>\n",
       "      <td>704.5568</td>\n",
       "      <td>46.0</td>\n",
       "      <td>458.484857</td>\n",
       "      <td>...</td>\n",
       "      <td>528.664025</td>\n",
       "      <td>666.0330</td>\n",
       "      <td>46.0</td>\n",
       "      <td>469.877393</td>\n",
       "      <td>100.574851</td>\n",
       "      <td>258.9892</td>\n",
       "      <td>396.717625</td>\n",
       "      <td>474.2074</td>\n",
       "      <td>544.42375</td>\n",
       "      <td>715.9082</td>\n",
       "    </tr>\n",
       "  </tbody>\n",
       "</table>\n",
       "<p>3 rows × 24 columns</p>\n",
       "</div>"
      ],
      "text/plain": [
       "                   math_score                                                \\\n",
       "                        count        mean         std       min         25%   \n",
       "immigration_status                                                            \n",
       "Native                 2902.0  539.323494   91.342680  224.8871  477.399125   \n",
       "Second-Generation       249.0  486.669186   91.693445  248.8004  415.648900   \n",
       "First-Generation         46.0  466.059661  100.008020  235.4806  404.607450   \n",
       "\n",
       "                                                   reading_score              \\\n",
       "                          50%        75%       max         count        mean   \n",
       "immigration_status                                                             \n",
       "Native              544.71880  604.69700  797.0167        2902.0  532.706911   \n",
       "Second-Generation   484.89640  557.18180  740.3879         249.0  494.983058   \n",
       "First-Generation    462.57985  539.57785  704.5568          46.0  458.484857   \n",
       "\n",
       "                    ...                       science_score              \\\n",
       "                    ...         75%       max         count        mean   \n",
       "immigration_status  ...                                                   \n",
       "Native              ...  593.350425  753.8837        2902.0  550.570495   \n",
       "Second-Generation   ...  548.236800  677.7093         249.0  488.902496   \n",
       "First-Generation    ...  528.664025  666.0330          46.0  469.877393   \n",
       "\n",
       "                                                                           \\\n",
       "                           std       min         25%       50%        75%   \n",
       "immigration_status                                                          \n",
       "Native               87.097113  202.1074  494.652200  557.6651  611.46960   \n",
       "Second-Generation    92.547848  221.6897  429.448000  490.9922  555.52030   \n",
       "First-Generation    100.574851  258.9892  396.717625  474.2074  544.42375   \n",
       "\n",
       "                              \n",
       "                         max  \n",
       "immigration_status            \n",
       "Native              782.1149  \n",
       "Second-Generation   722.5289  \n",
       "First-Generation    715.9082  \n",
       "\n",
       "[3 rows x 24 columns]"
      ]
     },
     "execution_count": 244,
     "metadata": {},
     "output_type": "execute_result"
    }
   ],
   "source": [
    "df_ger[[\"immigration_status\", \"math_score\", \"reading_score\", \"science_score\"]].groupby(\"immigration_status\").describe()"
   ]
  },
  {
   "cell_type": "code",
   "execution_count": 245,
   "metadata": {},
   "outputs": [
    {
     "data": {
      "text/plain": [
       "Text(0.5, 0.91, 'Distribution of test score comparing student family structures')"
      ]
     },
     "execution_count": 245,
     "metadata": {},
     "output_type": "execute_result"
    },
    {
     "data": {
      "image/png": "[encoded data removed]",
      "text/plain": [
       "<Figure size 720x864 with 3 Axes>"
      ]
     },
     "metadata": {
      "needs_background": "light"
     },
     "output_type": "display_data"
    }
   ],
   "source": [
    "fix, axes = plt.subplots(3,1,figsize=(10,12))\n",
    "sb.boxplot(x=\"immigration_status\", y=\"math_score\", data=df_ger, ax=axes[0], color=color)\n",
    "sb.boxplot(x=\"immigration_status\", y=\"reading_score\", data=df_ger, ax=axes[1], color=color)\n",
    "sb.boxplot(x=\"immigration_status\", y=\"science_score\", data=df_ger, ax=axes[2], color=color)\n",
    "\n",
    "\"\"\"Set y to destinguish plot target (math, reading, science)\"\"\"\n",
    "axes[0].set_ylabel(\"Math score\")\n",
    "axes[1].set_ylabel(\"Reading score\")\n",
    "axes[2].set_ylabel(\"Science score\")\n",
    "axes[0].set_xlabel(\"\")\n",
    "axes[1].set_xlabel(\"\")\n",
    "axes[2].set_xlabel(\"\")\n",
    "\n",
    "\"\"\"Set plot title\"\"\"\n",
    "plt.suptitle('Distribution of test score comparing student family structures',y=0.91)"
   ]
  },
  {
   "cell_type": "markdown",
   "metadata": {},
   "source": [
    "Native students scored on average 550 on all three tests. First and second-generation immigrations performed lower (by about 10%). From the boxplots above, I derive that immigrants in general struggle more in school and perform less compared to native students. Second-generation immigrants perform better than first-generation immigrants, giving rise to the assumption that this effect is weakened with the timing spend in the migrated country."
   ]
  },
  {
   "cell_type": "markdown",
   "metadata": {},
   "source": [
    "### Is there a correlation between immigration status and family structure?"
   ]
  },
  {
   "cell_type": "code",
   "execution_count": 246,
   "metadata": {},
   "outputs": [
    {
     "data": {
      "text/html": [
       "<div>\n",
       "<style scoped>\n",
       "    .dataframe tbody tr th:only-of-type {\n",
       "        vertical-align: middle;\n",
       "    }\n",
       "\n",
       "    .dataframe tbody tr th {\n",
       "        vertical-align: top;\n",
       "    }\n",
       "\n",
       "    .dataframe thead th {\n",
       "        text-align: right;\n",
       "    }\n",
       "</style>\n",
       "<table border=\"1\" class=\"dataframe\">\n",
       "  <thead>\n",
       "    <tr style=\"text-align: right;\">\n",
       "      <th></th>\n",
       "      <th></th>\n",
       "      <th>math_score</th>\n",
       "    </tr>\n",
       "    <tr>\n",
       "      <th>immigration_status</th>\n",
       "      <th>family_structure</th>\n",
       "      <th></th>\n",
       "    </tr>\n",
       "  </thead>\n",
       "  <tbody>\n",
       "    <tr>\n",
       "      <th rowspan=\"3\" valign=\"top\">Native</th>\n",
       "      <th>Both parents</th>\n",
       "      <td>0.876292</td>\n",
       "    </tr>\n",
       "    <tr>\n",
       "      <th>Single father/mother</th>\n",
       "      <td>0.120606</td>\n",
       "    </tr>\n",
       "    <tr>\n",
       "      <th>Other</th>\n",
       "      <td>0.003101</td>\n",
       "    </tr>\n",
       "    <tr>\n",
       "      <th rowspan=\"3\" valign=\"top\">Second-Generation</th>\n",
       "      <th>Both parents</th>\n",
       "      <td>0.915663</td>\n",
       "    </tr>\n",
       "    <tr>\n",
       "      <th>Single father/mother</th>\n",
       "      <td>0.080321</td>\n",
       "    </tr>\n",
       "    <tr>\n",
       "      <th>Other</th>\n",
       "      <td>0.004016</td>\n",
       "    </tr>\n",
       "    <tr>\n",
       "      <th rowspan=\"3\" valign=\"top\">First-Generation</th>\n",
       "      <th>Both parents</th>\n",
       "      <td>0.934783</td>\n",
       "    </tr>\n",
       "    <tr>\n",
       "      <th>Single father/mother</th>\n",
       "      <td>0.021739</td>\n",
       "    </tr>\n",
       "    <tr>\n",
       "      <th>Other</th>\n",
       "      <td>0.043478</td>\n",
       "    </tr>\n",
       "  </tbody>\n",
       "</table>\n",
       "</div>"
      ],
      "text/plain": [
       "                                         math_score\n",
       "immigration_status family_structure                \n",
       "Native             Both parents            0.876292\n",
       "                   Single father/mother    0.120606\n",
       "                   Other                   0.003101\n",
       "Second-Generation  Both parents            0.915663\n",
       "                   Single father/mother    0.080321\n",
       "                   Other                   0.004016\n",
       "First-Generation   Both parents            0.934783\n",
       "                   Single father/mother    0.021739\n",
       "                   Other                   0.043478"
      ]
     },
     "execution_count": 246,
     "metadata": {},
     "output_type": "execute_result"
    }
   ],
   "source": [
    "family_structure_by_immigration_status = (df_ger[[\"immigration_status\",\"family_structure\",\"math_score\"]].groupby(['immigration_status','family_structure']).count()/df_ger[[\"immigration_status\",\"math_score\"]].groupby('immigration_status').count())\n",
    "family_structure_by_immigration_status"
   ]
  },
  {
   "cell_type": "code",
   "execution_count": 247,
   "metadata": {
    "scrolled": true
   },
   "outputs": [
    {
     "data": {
      "text/plain": [
       "<AxesSubplot:xlabel='family_structure', ylabel='count'>"
      ]
     },
     "execution_count": 247,
     "metadata": {},
     "output_type": "execute_result"
    },
    {
     "data": {
      "image/png": "[encoded data removed]",
      "text/plain": [
       "<Figure size 720x360 with 1 Axes>"
      ]
     },
     "metadata": {
      "needs_background": "light"
     },
     "output_type": "display_data"
    }
   ],
   "source": [
    "plt.figure(figsize=(10,5))\n",
    "sb.countplot(data=df_ger, x=\"family_structure\", hue=\"immigration_status\")"
   ]
  },
  {
   "cell_type": "markdown",
   "metadata": {},
   "source": [
    "The number of students living with both parents is slighly higher for immigrants (93%), compared to native students (88%)."
   ]
  },
  {
   "cell_type": "markdown",
   "metadata": {},
   "source": [
    "### Do highly educated people migrate to Germany?"
   ]
  },
  {
   "cell_type": "code",
   "execution_count": 248,
   "metadata": {},
   "outputs": [
    {
     "data": {
      "text/plain": [
       "ISCED 5A, 6          0.261017\n",
       "ISCED 2              0.244068\n",
       "ISCED 3A, ISCED 4    0.216949\n",
       "ISCED 5B             0.152542\n",
       "ISCED 3B, C          0.081356\n",
       "None                 0.044068\n",
       "ISCED 1              0.000000\n",
       "Name: education_parents, dtype: float64"
      ]
     },
     "execution_count": 248,
     "metadata": {},
     "output_type": "execute_result"
    }
   ],
   "source": [
    "immigration_education = df_ger.query(\"immigration_status != 'Native'\").education_parents.value_counts()\n",
    "immigration_education_perc = df_ger.query(\"immigration_status != 'Native'\").education_parents.value_counts(normalize=True)\n",
    "immigration_education_perc"
   ]
  },
  {
   "cell_type": "code",
   "execution_count": 249,
   "metadata": {},
   "outputs": [
    {
     "data": {
      "text/plain": [
       "(array([0, 1, 2, 3, 4, 5, 6]),\n",
       " [Text(0, 0, 'ISCED 5B'),\n",
       "  Text(1, 0, 'ISCED 5A, 6'),\n",
       "  Text(2, 0, 'ISCED 3B, C'),\n",
       "  Text(3, 0, 'ISCED 3A, ISCED 4'),\n",
       "  Text(4, 0, 'ISCED 2'),\n",
       "  Text(5, 0, 'ISCED 1'),\n",
       "  Text(6, 0, 'None')])"
      ]
     },
     "execution_count": 249,
     "metadata": {},
     "output_type": "execute_result"
    },
    {
     "data": {
      "image/png": "[encoded data removed]",
      "text/plain": [
       "<Figure size 432x288 with 1 Axes>"
      ]
     },
     "metadata": {
      "needs_background": "light"
     },
     "output_type": "display_data"
    }
   ],
   "source": [
    "sb.barplot(x=immigration_education_perc.index, y=immigration_education_perc.values, order=education_categories.categories, color=color)\n",
    "plt.xticks(rotation=90)"
   ]
  },
  {
   "cell_type": "markdown",
   "metadata": {},
   "source": [
    "### Talk about some of the relationships you observed in this part of the investigation. How did the feature(s) of interest vary with other features in the dataset?\n",
    "\n",
    "> - Attended school is a gread indicator for attained scores for each student. This is possibly due to the different level of educaiton in general and therefore expected.\n",
    "> - Students raised by a single parent (father or mother) perform equally well in all three test subjects. This is great to see but also counter-intuitive, since I expected kids' performances to depend on support given by their parents and single parents tend to have less time for their kids as they have to juggle several responsibilities on their own.\n",
    "> - Education of parents has influence on the test scores of the student. It gives rise to the assumption that higher educated parents pass on their knowledge onto their kids. \n",
    "> - Immigrants in general struggle more in school and perform less compared to native students. Second-generation immigrants perform better than first-generation immigrants, giving rise to the assumption that this effect is weakened with the timing spend in the migrated country.\n",
    "\n",
    "\n",
    "### Did you observe any interesting relationships between the other features (not the main feature(s) of interest)?\n",
    "\n",
    "> - Surprisingly, a correlation between parental education and attended school could not be found.\n",
    "> - Around 40% of immigrants have some form of tertiary education. Almost all of them (95%) have at least some form of secondary education. They build a great partion of the German educated work force."
   ]
  },
  {
   "cell_type": "markdown",
   "metadata": {},
   "source": [
    "## Multivariate Exploration\n",
    "\n",
    "> Create plots of three or more variables to investigate your data even\n",
    "further. Make sure that your investigations are justified, and follow from\n",
    "your work in the previous sections."
   ]
  },
  {
   "cell_type": "markdown",
   "metadata": {},
   "source": [
    "### Is there a correlation between how students perform on different subjects?"
   ]
  },
  {
   "cell_type": "code",
   "execution_count": 250,
   "metadata": {},
   "outputs": [],
   "source": [
    "# Function to calculate correlation coefficient between two arrays (credit to this Stack Overflow answer \n",
    "# (https://stackoverflow.com/questions/30942577/seaborn-correlation-coefficient-on-pairgrid))\n",
    "def corr(x, y, **kwargs):\n",
    "    \n",
    "    # Calculate the value\n",
    "    coef = np.corrcoef(x, y)[0][1]\n",
    "    # Make the label\n",
    "    label = r'$\\rho$ = ' + str(round(coef, 2))\n",
    "    \n",
    "    # Add the label to the plot\n",
    "    ax = plt.gca()\n",
    "    ax.annotate(label, xy = (0.1, 0.95), size = 15, xycoords = ax.transAxes)"
   ]
  },
  {
   "cell_type": "code",
   "execution_count": 251,
   "metadata": {},
   "outputs": [
    {
     "data": {
      "image/png": "[encoded data removed]",
      "text/plain": [
       "<Figure size 540x540 with 12 Axes>"
      ]
     },
     "metadata": {
      "needs_background": "light"
     },
     "output_type": "display_data"
    }
   ],
   "source": [
    "g = sb.PairGrid(df_ger[[\"math_score\",\"reading_score\",\"science_score\"]])\n",
    "plt.suptitle(\"Math score vs. Reading score vs. Science score\", y=1.01)\n",
    "g = g.map_upper(plt.scatter, color = color, alpha=0.05)\n",
    "g = g.map_upper(corr)\n",
    "g = g.map_diag(plt.hist, bins = 15, color = color)\n",
    "g = g.map_lower(sb.kdeplot, color = color)\n"
   ]
  },
  {
   "cell_type": "markdown",
   "metadata": {},
   "source": [
    "From the plots we can derive that students performing well on one subject tend to receive good results in tests regarding the other subjects as well. To support this, I will have a look at the Pearson correlation values."
   ]
  },
  {
   "cell_type": "code",
   "execution_count": 252,
   "metadata": {},
   "outputs": [
    {
     "data": {
      "image/png": "[encoded data removed]",
      "text/plain": [
       "<Figure size 432x288 with 2 Axes>"
      ]
     },
     "metadata": {
      "needs_background": "light"
     },
     "output_type": "display_data"
    }
   ],
   "source": [
    "sb.heatmap(data=df_ger[[\"math_score\",\"reading_score\",\"science_score\"]].corr(), center=0, cmap=\"RdBu_r\",annot=True, vmin=-1, vmax=1);"
   ]
  },
  {
   "cell_type": "markdown",
   "metadata": {},
   "source": [
    "Correlation values between all three test subjects are greater than 0.86, suggesting strong positive correlation."
   ]
  },
  {
   "cell_type": "markdown",
   "metadata": {},
   "source": [
    "### Correlation between Score, family structure, immigratition status"
   ]
  },
  {
   "cell_type": "code",
   "execution_count": 271,
   "metadata": {},
   "outputs": [
    {
     "data": {
      "text/plain": [
       "Text(0.5, 1.0, 'Distribution of PISA math test scores vs. Family status vs. Immigration status')"
      ]
     },
     "execution_count": 271,
     "metadata": {},
     "output_type": "execute_result"
    },
    {
     "data": {
      "image/png": "[encoded data removed]",
      "text/plain": [
       "<Figure size 720x360 with 1 Axes>"
      ]
     },
     "metadata": {
      "needs_background": "light"
     },
     "output_type": "display_data"
    }
   ],
   "source": [
    "\n",
    "plt.figure(figsize=(10,5))\n",
    "\n",
    "\n",
    "ax = sb.pointplot(data = df_ger, x = 'family_structure', y = 'math_score', hue = 'immigration_status',\n",
    "                  dodge = 0.3, linestyles = \"\")\n",
    "ax.legend(loc = 0, ncol = 3, framealpha = .9, title = 'Immigration status')\n",
    "ax.set_xlabel(\"Family status\")\n",
    "ax.set_ylabel(\"Math score\")\n",
    "plt.title(\"Distribution of PISA math test scores vs. Family status vs. Immigration status\")"
   ]
  },
  {
   "cell_type": "code",
   "execution_count": 254,
   "metadata": {},
   "outputs": [
    {
     "data": {
      "text/plain": [
       "Text(0, 0.5, 'Reading score')"
      ]
     },
     "execution_count": 254,
     "metadata": {},
     "output_type": "execute_result"
    },
    {
     "data": {
      "image/png": "[encoded data removed]",
      "text/plain": [
       "<Figure size 720x360 with 1 Axes>"
      ]
     },
     "metadata": {
      "needs_background": "light"
     },
     "output_type": "display_data"
    }
   ],
   "source": [
    "\n",
    "plt.figure(figsize=(10,5))\n",
    "ax = sb.barplot(data = df_ger, x = 'family_structure', y = 'reading_score', hue = 'immigration_status')\n",
    "ax.legend(loc = 4, ncol = 3, framealpha = .9, title = 'Immigration status')\n",
    "ax.set_xlabel(\"Family structure\")\n",
    "ax.set_ylabel(\"Reading score\")"
   ]
  },
  {
   "cell_type": "code",
   "execution_count": 255,
   "metadata": {},
   "outputs": [
    {
     "data": {
      "text/plain": [
       "Text(0, 0.5, 'Science score')"
      ]
     },
     "execution_count": 255,
     "metadata": {},
     "output_type": "execute_result"
    },
    {
     "data": {
      "image/png": "[encoded data removed]",
      "text/plain": [
       "<Figure size 720x360 with 1 Axes>"
      ]
     },
     "metadata": {
      "needs_background": "light"
     },
     "output_type": "display_data"
    }
   ],
   "source": [
    "\n",
    "plt.figure(figsize=(10,5))\n",
    "ax = sb.barplot(data = df_ger, x = 'family_structure', y = 'science_score', hue = 'immigration_status')\n",
    "ax.legend(loc = 4, ncol = 3, framealpha = .9, title = 'Immigration status')\n",
    "ax.set_xlabel(\"Family structure\")\n",
    "ax.set_ylabel(\"Science score\")"
   ]
  },
  {
   "cell_type": "markdown",
   "metadata": {},
   "source": [
    "### Talk about some of the relationships you observed in this part of the investigation. Were there features that strengthened each other in terms of looking at your feature(s) of interest?\n",
    "\n",
    "> Students performing well in one test on average also perform well in the other two subjects.\n"
   ]
  },
  {
   "cell_type": "markdown",
   "metadata": {},
   "source": [
    "> At the end of your report, make sure that you export the notebook as an\n",
    "html file from the `File > Download as... > HTML` menu. Make sure you keep\n",
    "track of where the exported file goes, so you can put it in the same folder\n",
    "as this notebook for project submission. Also, make sure you remove all of\n",
    "the quote-formatted guide notes like this one before you finish your report!"
   ]
  },
  {
   "cell_type": "code",
   "execution_count": null,
   "metadata": {},
   "outputs": [],
   "source": []
  }
 ],
 "metadata": {
  "kernelspec": {
   "display_name": "Python 3",
   "language": "python",
   "name": "python3"
  },
  "language_info": {
   "codemirror_mode": {
    "name": "ipython",
    "version": 3
   },
   "file_extension": ".py",
   "mimetype": "text/x-python",
   "name": "python",
   "nbconvert_exporter": "python",
   "pygments_lexer": "ipython3",
   "version": "3.6.13"
  }
 },
 "nbformat": 4,
 "nbformat_minor": 2
}
