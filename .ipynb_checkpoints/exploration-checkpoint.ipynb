{
 "cells": [
  {
   "cell_type": "markdown",
   "metadata": {},
   "source": [
    "# Exploration of PISA 2012 for German students\n",
    "## by Markus Stachl\n",
    "\n",
    "## Preliminary Wrangling\n",
    "\n",
    "> PISA is the OECD's Programme for International Student Assessment. PISA measures 15-year-olds’ ability to use their reading, mathematics and science knowledge and skills to meet real-life challenges.\n",
    "> The given dataset from the PISA database contains the full set of responses from individual students. The dataset is provided in an Excel-file. Other formats can be found on their website, https://www.oecd.org/pisa/data/.\n",
    "> The dataset contains extensive responses from participating students around the world. An explanation of all features gathered by the PISA 2012 study can be found on https://www.oecd.org/pisa/pisaproducts/PISA12_stu_codebook.pdf.\n",
    "> I will restrict the dataset to reponses from German students.\n"
   ]
  },
  {
   "cell_type": "code",
   "execution_count": 220,
   "metadata": {},
   "outputs": [],
   "source": [
    "# import all packages and set plots to be embedded inline\n",
    "import numpy as np\n",
    "import pandas as pd\n",
    "import matplotlib.pyplot as plt\n",
    "import seaborn as sb\n",
    "import io\n",
    "\n",
    "\n",
    "%matplotlib inline\n",
    "\n",
    "sb.set_palette(\"colorblind\")\n",
    "color = sb.color_palette()[0]"
   ]
  },
  {
   "cell_type": "markdown",
   "metadata": {},
   "source": [
    "> Load in your dataset and describe its properties through the questions below.\n",
    "Try and motivate your exploration goals through this section."
   ]
  },
  {
   "cell_type": "code",
   "execution_count": 2,
   "metadata": {},
   "outputs": [
    {
     "name": "stderr",
     "output_type": "stream",
     "text": [
      "C:\\Users\\Lenovo\\Anaconda3\\envs\\py3.6\\lib\\site-packages\\IPython\\core\\interactiveshell.py:3072: DtypeWarning: Columns (15,16,17,21,22,23,24,25,26,30,31,36,37,45,65,123,155,156,157,158,159,160,161,162,163,164,165,166,167,168,169,170,171,284,285,286,287,288,289,290,291,292,293,294,295,296,297,298,299,300,301,302,303,307,308,309,310,311,312,313,314,315,316,317,318,319,320,321,322,323,324,325,326,327,328,329,330,331,332,333,334,335,336,337,338,339,340,341,342,343,344,345,346,347,348,349,350,351,352,353,354,355,356,357,376,377,378,379,380,381,382,383,384,385,386,387,388,389,390,391,392,393,394,395,396,397,398,399,400,401,402,403,475) have mixed types.Specify dtype option on import or set low_memory=False.\n",
      "  interactivity=interactivity, compiler=compiler, result=result)\n"
     ]
    }
   ],
   "source": [
    "file = io.open('../pisa2012data/pisa2012.csv', encoding='latin-1')\n",
    "df = pd.read_csv(file, index_col = 0)"
   ]
  },
  {
   "cell_type": "code",
   "execution_count": 4,
   "metadata": {},
   "outputs": [
    {
     "data": {
      "text/html": [
       "<div>\n",
       "<style scoped>\n",
       "    .dataframe tbody tr th:only-of-type {\n",
       "        vertical-align: middle;\n",
       "    }\n",
       "\n",
       "    .dataframe tbody tr th {\n",
       "        vertical-align: top;\n",
       "    }\n",
       "\n",
       "    .dataframe thead th {\n",
       "        text-align: right;\n",
       "    }\n",
       "</style>\n",
       "<table border=\"1\" class=\"dataframe\">\n",
       "  <thead>\n",
       "    <tr style=\"text-align: right;\">\n",
       "      <th></th>\n",
       "      <th>CNT</th>\n",
       "      <th>SUBNATIO</th>\n",
       "      <th>STRATUM</th>\n",
       "      <th>OECD</th>\n",
       "      <th>NC</th>\n",
       "      <th>SCHOOLID</th>\n",
       "      <th>STIDSTD</th>\n",
       "      <th>ST01Q01</th>\n",
       "      <th>ST02Q01</th>\n",
       "      <th>ST03Q01</th>\n",
       "      <th>...</th>\n",
       "      <th>W_FSTR75</th>\n",
       "      <th>W_FSTR76</th>\n",
       "      <th>W_FSTR77</th>\n",
       "      <th>W_FSTR78</th>\n",
       "      <th>W_FSTR79</th>\n",
       "      <th>W_FSTR80</th>\n",
       "      <th>WVARSTRR</th>\n",
       "      <th>VAR_UNIT</th>\n",
       "      <th>SENWGT_STU</th>\n",
       "      <th>VER_STU</th>\n",
       "    </tr>\n",
       "  </thead>\n",
       "  <tbody>\n",
       "    <tr>\n",
       "      <th>1</th>\n",
       "      <td>Albania</td>\n",
       "      <td>80000</td>\n",
       "      <td>ALB0006</td>\n",
       "      <td>Non-OECD</td>\n",
       "      <td>Albania</td>\n",
       "      <td>1</td>\n",
       "      <td>1</td>\n",
       "      <td>10</td>\n",
       "      <td>1.0</td>\n",
       "      <td>2</td>\n",
       "      <td>...</td>\n",
       "      <td>13.7954</td>\n",
       "      <td>13.9235</td>\n",
       "      <td>13.1249</td>\n",
       "      <td>13.1249</td>\n",
       "      <td>4.3389</td>\n",
       "      <td>13.0829</td>\n",
       "      <td>19</td>\n",
       "      <td>1</td>\n",
       "      <td>0.2098</td>\n",
       "      <td>22NOV13</td>\n",
       "    </tr>\n",
       "    <tr>\n",
       "      <th>2</th>\n",
       "      <td>Albania</td>\n",
       "      <td>80000</td>\n",
       "      <td>ALB0006</td>\n",
       "      <td>Non-OECD</td>\n",
       "      <td>Albania</td>\n",
       "      <td>1</td>\n",
       "      <td>2</td>\n",
       "      <td>10</td>\n",
       "      <td>1.0</td>\n",
       "      <td>2</td>\n",
       "      <td>...</td>\n",
       "      <td>13.7954</td>\n",
       "      <td>13.9235</td>\n",
       "      <td>13.1249</td>\n",
       "      <td>13.1249</td>\n",
       "      <td>4.3389</td>\n",
       "      <td>13.0829</td>\n",
       "      <td>19</td>\n",
       "      <td>1</td>\n",
       "      <td>0.2098</td>\n",
       "      <td>22NOV13</td>\n",
       "    </tr>\n",
       "    <tr>\n",
       "      <th>3</th>\n",
       "      <td>Albania</td>\n",
       "      <td>80000</td>\n",
       "      <td>ALB0006</td>\n",
       "      <td>Non-OECD</td>\n",
       "      <td>Albania</td>\n",
       "      <td>1</td>\n",
       "      <td>3</td>\n",
       "      <td>9</td>\n",
       "      <td>1.0</td>\n",
       "      <td>9</td>\n",
       "      <td>...</td>\n",
       "      <td>12.7307</td>\n",
       "      <td>12.7307</td>\n",
       "      <td>12.7307</td>\n",
       "      <td>12.7307</td>\n",
       "      <td>4.2436</td>\n",
       "      <td>12.7307</td>\n",
       "      <td>19</td>\n",
       "      <td>1</td>\n",
       "      <td>0.1999</td>\n",
       "      <td>22NOV13</td>\n",
       "    </tr>\n",
       "    <tr>\n",
       "      <th>4</th>\n",
       "      <td>Albania</td>\n",
       "      <td>80000</td>\n",
       "      <td>ALB0006</td>\n",
       "      <td>Non-OECD</td>\n",
       "      <td>Albania</td>\n",
       "      <td>1</td>\n",
       "      <td>4</td>\n",
       "      <td>9</td>\n",
       "      <td>1.0</td>\n",
       "      <td>8</td>\n",
       "      <td>...</td>\n",
       "      <td>12.7307</td>\n",
       "      <td>12.7307</td>\n",
       "      <td>12.7307</td>\n",
       "      <td>12.7307</td>\n",
       "      <td>4.2436</td>\n",
       "      <td>12.7307</td>\n",
       "      <td>19</td>\n",
       "      <td>1</td>\n",
       "      <td>0.1999</td>\n",
       "      <td>22NOV13</td>\n",
       "    </tr>\n",
       "    <tr>\n",
       "      <th>5</th>\n",
       "      <td>Albania</td>\n",
       "      <td>80000</td>\n",
       "      <td>ALB0006</td>\n",
       "      <td>Non-OECD</td>\n",
       "      <td>Albania</td>\n",
       "      <td>1</td>\n",
       "      <td>5</td>\n",
       "      <td>9</td>\n",
       "      <td>1.0</td>\n",
       "      <td>10</td>\n",
       "      <td>...</td>\n",
       "      <td>12.7307</td>\n",
       "      <td>12.7307</td>\n",
       "      <td>12.7307</td>\n",
       "      <td>12.7307</td>\n",
       "      <td>4.2436</td>\n",
       "      <td>12.7307</td>\n",
       "      <td>19</td>\n",
       "      <td>1</td>\n",
       "      <td>0.1999</td>\n",
       "      <td>22NOV13</td>\n",
       "    </tr>\n",
       "  </tbody>\n",
       "</table>\n",
       "<p>5 rows × 635 columns</p>\n",
       "</div>"
      ],
      "text/plain": [
       "       CNT  SUBNATIO  STRATUM      OECD       NC  SCHOOLID  STIDSTD  ST01Q01  \\\n",
       "1  Albania     80000  ALB0006  Non-OECD  Albania         1        1       10   \n",
       "2  Albania     80000  ALB0006  Non-OECD  Albania         1        2       10   \n",
       "3  Albania     80000  ALB0006  Non-OECD  Albania         1        3        9   \n",
       "4  Albania     80000  ALB0006  Non-OECD  Albania         1        4        9   \n",
       "5  Albania     80000  ALB0006  Non-OECD  Albania         1        5        9   \n",
       "\n",
       "   ST02Q01  ST03Q01  ...  W_FSTR75 W_FSTR76 W_FSTR77  W_FSTR78 W_FSTR79  \\\n",
       "1      1.0        2  ...   13.7954  13.9235  13.1249   13.1249   4.3389   \n",
       "2      1.0        2  ...   13.7954  13.9235  13.1249   13.1249   4.3389   \n",
       "3      1.0        9  ...   12.7307  12.7307  12.7307   12.7307   4.2436   \n",
       "4      1.0        8  ...   12.7307  12.7307  12.7307   12.7307   4.2436   \n",
       "5      1.0       10  ...   12.7307  12.7307  12.7307   12.7307   4.2436   \n",
       "\n",
       "  W_FSTR80 WVARSTRR VAR_UNIT SENWGT_STU  VER_STU  \n",
       "1  13.0829       19        1     0.2098  22NOV13  \n",
       "2  13.0829       19        1     0.2098  22NOV13  \n",
       "3  12.7307       19        1     0.1999  22NOV13  \n",
       "4  12.7307       19        1     0.1999  22NOV13  \n",
       "5  12.7307       19        1     0.1999  22NOV13  \n",
       "\n",
       "[5 rows x 635 columns]"
      ]
     },
     "execution_count": 4,
     "metadata": {},
     "output_type": "execute_result"
    }
   ],
   "source": [
    "df.head()"
   ]
  },
  {
   "cell_type": "code",
   "execution_count": 3,
   "metadata": {},
   "outputs": [
    {
     "data": {
      "text/plain": [
       "(485490, 635)"
      ]
     },
     "execution_count": 3,
     "metadata": {},
     "output_type": "execute_result"
    }
   ],
   "source": [
    "df.shape"
   ]
  },
  {
   "cell_type": "code",
   "execution_count": 121,
   "metadata": {},
   "outputs": [
    {
     "data": {
      "text/html": [
       "<div>\n",
       "<style scoped>\n",
       "    .dataframe tbody tr th:only-of-type {\n",
       "        vertical-align: middle;\n",
       "    }\n",
       "\n",
       "    .dataframe tbody tr th {\n",
       "        vertical-align: top;\n",
       "    }\n",
       "\n",
       "    .dataframe thead th {\n",
       "        text-align: right;\n",
       "    }\n",
       "</style>\n",
       "<table border=\"1\" class=\"dataframe\">\n",
       "  <thead>\n",
       "    <tr style=\"text-align: right;\">\n",
       "      <th></th>\n",
       "      <th>CNT</th>\n",
       "      <th>SUBNATIO</th>\n",
       "      <th>STRATUM</th>\n",
       "      <th>OECD</th>\n",
       "      <th>NC</th>\n",
       "      <th>SCHOOLID</th>\n",
       "      <th>STIDSTD</th>\n",
       "      <th>ST01Q01</th>\n",
       "      <th>ST02Q01</th>\n",
       "      <th>ST03Q01</th>\n",
       "      <th>...</th>\n",
       "      <th>W_FSTR75</th>\n",
       "      <th>W_FSTR76</th>\n",
       "      <th>W_FSTR77</th>\n",
       "      <th>W_FSTR78</th>\n",
       "      <th>W_FSTR79</th>\n",
       "      <th>W_FSTR80</th>\n",
       "      <th>WVARSTRR</th>\n",
       "      <th>VAR_UNIT</th>\n",
       "      <th>SENWGT_STU</th>\n",
       "      <th>VER_STU</th>\n",
       "    </tr>\n",
       "  </thead>\n",
       "  <tbody>\n",
       "    <tr>\n",
       "      <th>134545</th>\n",
       "      <td>Germany</td>\n",
       "      <td>2760000</td>\n",
       "      <td>DEU0213</td>\n",
       "      <td>OECD</td>\n",
       "      <td>Germany</td>\n",
       "      <td>66</td>\n",
       "      <td>1444</td>\n",
       "      <td>9</td>\n",
       "      <td>4.0</td>\n",
       "      <td>7</td>\n",
       "      <td>...</td>\n",
       "      <td>97.0532</td>\n",
       "      <td>97.0532</td>\n",
       "      <td>291.1596</td>\n",
       "      <td>291.1596</td>\n",
       "      <td>97.0532</td>\n",
       "      <td>97.0532</td>\n",
       "      <td>24</td>\n",
       "      <td>1</td>\n",
       "      <td>0.2564</td>\n",
       "      <td>22NOV13</td>\n",
       "    </tr>\n",
       "    <tr>\n",
       "      <th>134477</th>\n",
       "      <td>Germany</td>\n",
       "      <td>2760000</td>\n",
       "      <td>DEU0109</td>\n",
       "      <td>OECD</td>\n",
       "      <td>Germany</td>\n",
       "      <td>63</td>\n",
       "      <td>1376</td>\n",
       "      <td>9</td>\n",
       "      <td>4.0</td>\n",
       "      <td>10</td>\n",
       "      <td>...</td>\n",
       "      <td>74.4613</td>\n",
       "      <td>74.4613</td>\n",
       "      <td>223.3838</td>\n",
       "      <td>223.3838</td>\n",
       "      <td>74.4613</td>\n",
       "      <td>223.3838</td>\n",
       "      <td>8</td>\n",
       "      <td>1</td>\n",
       "      <td>0.1968</td>\n",
       "      <td>22NOV13</td>\n",
       "    </tr>\n",
       "    <tr>\n",
       "      <th>136578</th>\n",
       "      <td>Germany</td>\n",
       "      <td>2760000</td>\n",
       "      <td>DEU0109</td>\n",
       "      <td>OECD</td>\n",
       "      <td>Germany</td>\n",
       "      <td>161</td>\n",
       "      <td>3477</td>\n",
       "      <td>10</td>\n",
       "      <td>5.0</td>\n",
       "      <td>2</td>\n",
       "      <td>...</td>\n",
       "      <td>90.0128</td>\n",
       "      <td>94.1476</td>\n",
       "      <td>90.4965</td>\n",
       "      <td>89.1517</td>\n",
       "      <td>91.6023</td>\n",
       "      <td>93.9121</td>\n",
       "      <td>17</td>\n",
       "      <td>2</td>\n",
       "      <td>0.1897</td>\n",
       "      <td>22NOV13</td>\n",
       "    </tr>\n",
       "    <tr>\n",
       "      <th>136032</th>\n",
       "      <td>Germany</td>\n",
       "      <td>2760000</td>\n",
       "      <td>DEU0103</td>\n",
       "      <td>OECD</td>\n",
       "      <td>Germany</td>\n",
       "      <td>134</td>\n",
       "      <td>2931</td>\n",
       "      <td>10</td>\n",
       "      <td>10.0</td>\n",
       "      <td>2</td>\n",
       "      <td>...</td>\n",
       "      <td>233.3945</td>\n",
       "      <td>78.0582</td>\n",
       "      <td>216.8996</td>\n",
       "      <td>233.3945</td>\n",
       "      <td>80.1503</td>\n",
       "      <td>74.4494</td>\n",
       "      <td>31</td>\n",
       "      <td>1</td>\n",
       "      <td>0.2011</td>\n",
       "      <td>22NOV13</td>\n",
       "    </tr>\n",
       "    <tr>\n",
       "      <th>133540</th>\n",
       "      <td>Germany</td>\n",
       "      <td>2760000</td>\n",
       "      <td>DEU0210</td>\n",
       "      <td>OECD</td>\n",
       "      <td>Germany</td>\n",
       "      <td>21</td>\n",
       "      <td>439</td>\n",
       "      <td>9</td>\n",
       "      <td>2.0</td>\n",
       "      <td>10</td>\n",
       "      <td>...</td>\n",
       "      <td>67.6757</td>\n",
       "      <td>207.4490</td>\n",
       "      <td>67.6757</td>\n",
       "      <td>68.9144</td>\n",
       "      <td>68.9144</td>\n",
       "      <td>68.9144</td>\n",
       "      <td>54</td>\n",
       "      <td>2</td>\n",
       "      <td>0.1810</td>\n",
       "      <td>22NOV13</td>\n",
       "    </tr>\n",
       "    <tr>\n",
       "      <th>136355</th>\n",
       "      <td>Germany</td>\n",
       "      <td>2760000</td>\n",
       "      <td>DEU0109</td>\n",
       "      <td>OECD</td>\n",
       "      <td>Germany</td>\n",
       "      <td>150</td>\n",
       "      <td>3254</td>\n",
       "      <td>10</td>\n",
       "      <td>4.0</td>\n",
       "      <td>5</td>\n",
       "      <td>...</td>\n",
       "      <td>61.5445</td>\n",
       "      <td>184.6336</td>\n",
       "      <td>61.5445</td>\n",
       "      <td>61.5445</td>\n",
       "      <td>184.6336</td>\n",
       "      <td>184.6336</td>\n",
       "      <td>40</td>\n",
       "      <td>2</td>\n",
       "      <td>0.1626</td>\n",
       "      <td>22NOV13</td>\n",
       "    </tr>\n",
       "    <tr>\n",
       "      <th>134519</th>\n",
       "      <td>Germany</td>\n",
       "      <td>2760000</td>\n",
       "      <td>DEU0210</td>\n",
       "      <td>OECD</td>\n",
       "      <td>Germany</td>\n",
       "      <td>65</td>\n",
       "      <td>1418</td>\n",
       "      <td>10</td>\n",
       "      <td>4.0</td>\n",
       "      <td>3</td>\n",
       "      <td>...</td>\n",
       "      <td>103.2538</td>\n",
       "      <td>269.9600</td>\n",
       "      <td>275.0805</td>\n",
       "      <td>103.2538</td>\n",
       "      <td>98.3667</td>\n",
       "      <td>269.9600</td>\n",
       "      <td>59</td>\n",
       "      <td>2</td>\n",
       "      <td>0.2526</td>\n",
       "      <td>22NOV13</td>\n",
       "    </tr>\n",
       "    <tr>\n",
       "      <th>137738</th>\n",
       "      <td>Germany</td>\n",
       "      <td>2760000</td>\n",
       "      <td>DEU0102</td>\n",
       "      <td>OECD</td>\n",
       "      <td>Germany</td>\n",
       "      <td>214</td>\n",
       "      <td>4637</td>\n",
       "      <td>10</td>\n",
       "      <td>4.0</td>\n",
       "      <td>9</td>\n",
       "      <td>...</td>\n",
       "      <td>70.0391</td>\n",
       "      <td>70.0391</td>\n",
       "      <td>70.0391</td>\n",
       "      <td>210.1172</td>\n",
       "      <td>70.0391</td>\n",
       "      <td>210.1172</td>\n",
       "      <td>39</td>\n",
       "      <td>2</td>\n",
       "      <td>0.1851</td>\n",
       "      <td>22NOV13</td>\n",
       "    </tr>\n",
       "    <tr>\n",
       "      <th>133589</th>\n",
       "      <td>Germany</td>\n",
       "      <td>2760000</td>\n",
       "      <td>DEU0210</td>\n",
       "      <td>OECD</td>\n",
       "      <td>Germany</td>\n",
       "      <td>23</td>\n",
       "      <td>488</td>\n",
       "      <td>9</td>\n",
       "      <td>5.0</td>\n",
       "      <td>11</td>\n",
       "      <td>...</td>\n",
       "      <td>209.3892</td>\n",
       "      <td>73.6486</td>\n",
       "      <td>73.6486</td>\n",
       "      <td>73.6486</td>\n",
       "      <td>76.7650</td>\n",
       "      <td>220.9458</td>\n",
       "      <td>30</td>\n",
       "      <td>2</td>\n",
       "      <td>0.1946</td>\n",
       "      <td>22NOV13</td>\n",
       "    </tr>\n",
       "    <tr>\n",
       "      <th>133727</th>\n",
       "      <td>Germany</td>\n",
       "      <td>2760000</td>\n",
       "      <td>DEU0217</td>\n",
       "      <td>OECD</td>\n",
       "      <td>Germany</td>\n",
       "      <td>29</td>\n",
       "      <td>626</td>\n",
       "      <td>8</td>\n",
       "      <td>1.0</td>\n",
       "      <td>11</td>\n",
       "      <td>...</td>\n",
       "      <td>69.7830</td>\n",
       "      <td>245.7200</td>\n",
       "      <td>69.7830</td>\n",
       "      <td>245.7200</td>\n",
       "      <td>202.6845</td>\n",
       "      <td>197.9853</td>\n",
       "      <td>2</td>\n",
       "      <td>2</td>\n",
       "      <td>0.2009</td>\n",
       "      <td>22NOV13</td>\n",
       "    </tr>\n",
       "  </tbody>\n",
       "</table>\n",
       "<p>10 rows × 635 columns</p>\n",
       "</div>"
      ],
      "text/plain": [
       "            CNT  SUBNATIO  STRATUM  OECD       NC  SCHOOLID  STIDSTD  ST01Q01  \\\n",
       "134545  Germany   2760000  DEU0213  OECD  Germany        66     1444        9   \n",
       "134477  Germany   2760000  DEU0109  OECD  Germany        63     1376        9   \n",
       "136578  Germany   2760000  DEU0109  OECD  Germany       161     3477       10   \n",
       "136032  Germany   2760000  DEU0103  OECD  Germany       134     2931       10   \n",
       "133540  Germany   2760000  DEU0210  OECD  Germany        21      439        9   \n",
       "136355  Germany   2760000  DEU0109  OECD  Germany       150     3254       10   \n",
       "134519  Germany   2760000  DEU0210  OECD  Germany        65     1418       10   \n",
       "137738  Germany   2760000  DEU0102  OECD  Germany       214     4637       10   \n",
       "133589  Germany   2760000  DEU0210  OECD  Germany        23      488        9   \n",
       "133727  Germany   2760000  DEU0217  OECD  Germany        29      626        8   \n",
       "\n",
       "        ST02Q01  ST03Q01  ...  W_FSTR75  W_FSTR76  W_FSTR77  W_FSTR78  \\\n",
       "134545      4.0        7  ...   97.0532   97.0532  291.1596  291.1596   \n",
       "134477      4.0       10  ...   74.4613   74.4613  223.3838  223.3838   \n",
       "136578      5.0        2  ...   90.0128   94.1476   90.4965   89.1517   \n",
       "136032     10.0        2  ...  233.3945   78.0582  216.8996  233.3945   \n",
       "133540      2.0       10  ...   67.6757  207.4490   67.6757   68.9144   \n",
       "136355      4.0        5  ...   61.5445  184.6336   61.5445   61.5445   \n",
       "134519      4.0        3  ...  103.2538  269.9600  275.0805  103.2538   \n",
       "137738      4.0        9  ...   70.0391   70.0391   70.0391  210.1172   \n",
       "133589      5.0       11  ...  209.3892   73.6486   73.6486   73.6486   \n",
       "133727      1.0       11  ...   69.7830  245.7200   69.7830  245.7200   \n",
       "\n",
       "        W_FSTR79  W_FSTR80 WVARSTRR VAR_UNIT SENWGT_STU  VER_STU  \n",
       "134545   97.0532   97.0532       24        1     0.2564  22NOV13  \n",
       "134477   74.4613  223.3838        8        1     0.1968  22NOV13  \n",
       "136578   91.6023   93.9121       17        2     0.1897  22NOV13  \n",
       "136032   80.1503   74.4494       31        1     0.2011  22NOV13  \n",
       "133540   68.9144   68.9144       54        2     0.1810  22NOV13  \n",
       "136355  184.6336  184.6336       40        2     0.1626  22NOV13  \n",
       "134519   98.3667  269.9600       59        2     0.2526  22NOV13  \n",
       "137738   70.0391  210.1172       39        2     0.1851  22NOV13  \n",
       "133589   76.7650  220.9458       30        2     0.1946  22NOV13  \n",
       "133727  202.6845  197.9853        2        2     0.2009  22NOV13  \n",
       "\n",
       "[10 rows x 635 columns]"
      ]
     },
     "execution_count": 121,
     "metadata": {},
     "output_type": "execute_result"
    }
   ],
   "source": [
    "df_ger = df[df['CNT']==\"Germany\"]\n",
    "df_ger.sample(10)"
   ]
  },
  {
   "cell_type": "code",
   "execution_count": 122,
   "metadata": {},
   "outputs": [
    {
     "data": {
      "text/plain": [
       "(5001, 635)"
      ]
     },
     "execution_count": 122,
     "metadata": {},
     "output_type": "execute_result"
    }
   ],
   "source": [
    "df_ger.shape"
   ]
  },
  {
   "cell_type": "markdown",
   "metadata": {},
   "source": [
    "### What is the structure of your dataset?\n",
    "\n",
    "> The given dataset consists of 485490 worldwide student responses to the PISA survey. Each response contains 635 features. German students make up 5001 responses.\n",
    "\n",
    "### What is/are the main feature(s) of interest in your dataset?\n",
    "\n",
    "> Main features contain the student performances PV1MATH, PV1READ, PV1SCIE\n",
    "\n",
    "### What features in the dataset do you think will help support your investigation into your feature(s) of interest?\n",
    "\n",
    "> **Test scores:**\n",
    "> - Mathematics score: PV1MATH\n",
    "> - Reading score: PV1READ\n",
    "> - Science score: PV1SCIE\n",
    "\n",
    "> **Student information:**\n",
    "> - Country: CNT\n",
    "> - Gender of student: ST04Q01\n",
    "> - National study program (type of attended school): ST02Q01\n",
    "\n",
    "> **Family information:**\n",
    "> - Education level father: FISCED\n",
    "> - Education level mother: MISCED\n",
    "> - Highest education level parents: HISCED\n",
    "> - Family structure: FAMSTRUC\n",
    "> - Immigration status: IMMIG"
   ]
  },
  {
   "cell_type": "markdown",
   "metadata": {},
   "source": [
    "The dataset contains extensive information from each student. I restict the dataset to features I consider interesting and which I want to further investigate in the following report."
   ]
  },
  {
   "cell_type": "code",
   "execution_count": 123,
   "metadata": {},
   "outputs": [],
   "source": [
    "df_ger = df_ger[[\"CNT\", \"ST04Q01\", \"ST02Q01\", \"PV1MATH\", \"PV1READ\", \n",
    "                 \"PV1SCIE\", \"FISCED\", \"MISCED\", \"HISCED\", \"FAMSTRUC\", \"IMMIG\"]]"
   ]
  },
  {
   "cell_type": "markdown",
   "metadata": {},
   "source": [
    "Column names are rather technical and therefore complicate the analysis, as the feature meaning is not visible right ahead. I therefore rename the columns based on their implication."
   ]
  },
  {
   "cell_type": "code",
   "execution_count": 124,
   "metadata": {},
   "outputs": [],
   "source": [
    "df_ger = df_ger.rename(columns={\"CNT\": \"country\", \"ST02Q01\": \"school_type\", \"ST04Q01\": \"gender\", \"PV1MATH\": \"math_score\", \"PV1READ\": \"reading_score\", \"PV1SCIE\": \"science_score\", \"FISCED\": \"education_father\", \"MISCED\": \"education_mother\", \"HISCED\": \"education_parents\", \"FAMSTRUC\": \"family_structure\", \"IMMIG\": \"immigration_status\"})"
   ]
  },
  {
   "cell_type": "code",
   "execution_count": 125,
   "metadata": {},
   "outputs": [
    {
     "data": {
      "text/html": [
       "<div>\n",
       "<style scoped>\n",
       "    .dataframe tbody tr th:only-of-type {\n",
       "        vertical-align: middle;\n",
       "    }\n",
       "\n",
       "    .dataframe tbody tr th {\n",
       "        vertical-align: top;\n",
       "    }\n",
       "\n",
       "    .dataframe thead th {\n",
       "        text-align: right;\n",
       "    }\n",
       "</style>\n",
       "<table border=\"1\" class=\"dataframe\">\n",
       "  <thead>\n",
       "    <tr style=\"text-align: right;\">\n",
       "      <th></th>\n",
       "      <th>country</th>\n",
       "      <th>gender</th>\n",
       "      <th>school_type</th>\n",
       "      <th>math_score</th>\n",
       "      <th>reading_score</th>\n",
       "      <th>science_score</th>\n",
       "      <th>education_father</th>\n",
       "      <th>education_mother</th>\n",
       "      <th>education_parents</th>\n",
       "      <th>family_structure</th>\n",
       "      <th>immigration_status</th>\n",
       "    </tr>\n",
       "  </thead>\n",
       "  <tbody>\n",
       "    <tr>\n",
       "      <th>135815</th>\n",
       "      <td>Germany</td>\n",
       "      <td>Female</td>\n",
       "      <td>4.0</td>\n",
       "      <td>530.8537</td>\n",
       "      <td>533.3832</td>\n",
       "      <td>551.7904</td>\n",
       "      <td>ISCED 5B</td>\n",
       "      <td>ISCED 5B</td>\n",
       "      <td>ISCED 5B</td>\n",
       "      <td>2.0</td>\n",
       "      <td>Native</td>\n",
       "    </tr>\n",
       "    <tr>\n",
       "      <th>136607</th>\n",
       "      <td>Germany</td>\n",
       "      <td>Female</td>\n",
       "      <td>5.0</td>\n",
       "      <td>473.9913</td>\n",
       "      <td>483.3417</td>\n",
       "      <td>493.9761</td>\n",
       "      <td>NaN</td>\n",
       "      <td>NaN</td>\n",
       "      <td>NaN</td>\n",
       "      <td>NaN</td>\n",
       "      <td>NaN</td>\n",
       "    </tr>\n",
       "    <tr>\n",
       "      <th>135795</th>\n",
       "      <td>Germany</td>\n",
       "      <td>Female</td>\n",
       "      <td>4.0</td>\n",
       "      <td>514.1845</td>\n",
       "      <td>541.3263</td>\n",
       "      <td>516.3558</td>\n",
       "      <td>NaN</td>\n",
       "      <td>ISCED 5A, 6</td>\n",
       "      <td>ISCED 5A, 6</td>\n",
       "      <td>2.0</td>\n",
       "      <td>Native</td>\n",
       "    </tr>\n",
       "    <tr>\n",
       "      <th>137986</th>\n",
       "      <td>Germany</td>\n",
       "      <td>Female</td>\n",
       "      <td>4.0</td>\n",
       "      <td>459.8146</td>\n",
       "      <td>472.7773</td>\n",
       "      <td>484.9310</td>\n",
       "      <td>NaN</td>\n",
       "      <td>NaN</td>\n",
       "      <td>NaN</td>\n",
       "      <td>NaN</td>\n",
       "      <td>NaN</td>\n",
       "    </tr>\n",
       "    <tr>\n",
       "      <th>133179</th>\n",
       "      <td>Germany</td>\n",
       "      <td>Male</td>\n",
       "      <td>4.0</td>\n",
       "      <td>638.1913</td>\n",
       "      <td>576.5803</td>\n",
       "      <td>631.7046</td>\n",
       "      <td>ISCED 3A, ISCED 4</td>\n",
       "      <td>ISCED 3A, ISCED 4</td>\n",
       "      <td>ISCED 3A, ISCED 4</td>\n",
       "      <td>2.0</td>\n",
       "      <td>NaN</td>\n",
       "    </tr>\n",
       "  </tbody>\n",
       "</table>\n",
       "</div>"
      ],
      "text/plain": [
       "        country  gender  school_type  math_score  reading_score  \\\n",
       "135815  Germany  Female          4.0    530.8537       533.3832   \n",
       "136607  Germany  Female          5.0    473.9913       483.3417   \n",
       "135795  Germany  Female          4.0    514.1845       541.3263   \n",
       "137986  Germany  Female          4.0    459.8146       472.7773   \n",
       "133179  Germany    Male          4.0    638.1913       576.5803   \n",
       "\n",
       "        science_score   education_father   education_mother  \\\n",
       "135815       551.7904           ISCED 5B           ISCED 5B   \n",
       "136607       493.9761                NaN                NaN   \n",
       "135795       516.3558                NaN        ISCED 5A, 6   \n",
       "137986       484.9310                NaN                NaN   \n",
       "133179       631.7046  ISCED 3A, ISCED 4  ISCED 3A, ISCED 4   \n",
       "\n",
       "        education_parents  family_structure immigration_status  \n",
       "135815           ISCED 5B               2.0             Native  \n",
       "136607                NaN               NaN                NaN  \n",
       "135795        ISCED 5A, 6               2.0             Native  \n",
       "137986                NaN               NaN                NaN  \n",
       "133179  ISCED 3A, ISCED 4               2.0                NaN  "
      ]
     },
     "execution_count": 125,
     "metadata": {},
     "output_type": "execute_result"
    }
   ],
   "source": [
    "df_ger.sample(5)"
   ]
  },
  {
   "cell_type": "code",
   "execution_count": 126,
   "metadata": {},
   "outputs": [
    {
     "data": {
      "text/plain": [
       "country                object\n",
       "gender                 object\n",
       "school_type           float64\n",
       "math_score            float64\n",
       "reading_score         float64\n",
       "science_score         float64\n",
       "education_father       object\n",
       "education_mother       object\n",
       "education_parents      object\n",
       "family_structure      float64\n",
       "immigration_status     object\n",
       "dtype: object"
      ]
     },
     "execution_count": 126,
     "metadata": {},
     "output_type": "execute_result"
    }
   ],
   "source": [
    "df_ger.dtypes"
   ]
  },
  {
   "cell_type": "markdown",
   "metadata": {},
   "source": [
    "### Further data wrangling"
   ]
  },
  {
   "cell_type": "markdown",
   "metadata": {},
   "source": [
    "#### Remove null values"
   ]
  },
  {
   "cell_type": "markdown",
   "metadata": {},
   "source": [
    "I will remove all null values from the dataset to ease further analysis."
   ]
  },
  {
   "cell_type": "code",
   "execution_count": 127,
   "metadata": {},
   "outputs": [],
   "source": [
    "\"\"\"Drop null values\"\"\"\n",
    "df_ger = df_ger.dropna()"
   ]
  },
  {
   "cell_type": "code",
   "execution_count": 128,
   "metadata": {},
   "outputs": [
    {
     "data": {
      "text/plain": [
       "(3197, 11)"
      ]
     },
     "execution_count": 128,
     "metadata": {},
     "output_type": "execute_result"
    }
   ],
   "source": [
    "df_ger.shape"
   ]
  },
  {
   "cell_type": "markdown",
   "metadata": {},
   "source": [
    "#### Add speaking school types"
   ]
  },
  {
   "cell_type": "markdown",
   "metadata": {},
   "source": [
    "At the moement, school types are labelled using float numbers. I will replace them with string representations and a meaningful, short description of the school type."
   ]
  },
  {
   "cell_type": "code",
   "execution_count": 129,
   "metadata": {},
   "outputs": [
    {
     "data": {
      "text/plain": [
       "array([10.,  9.,  4.,  3.,  1., 12.,  2.,  5., 15., 16., 14., 11.])"
      ]
     },
     "execution_count": 129,
     "metadata": {},
     "output_type": "execute_result"
    }
   ],
   "source": [
    "df_ger.school_type.unique()"
   ]
  },
  {
   "cell_type": "code",
   "execution_count": 130,
   "metadata": {},
   "outputs": [],
   "source": [
    "df_ger.loc[:,\"school_type\"] = df_ger[\"school_type\"].astype('str')\n",
    "\n",
    "school_map = {\"1.0\": \"Special school\", \n",
    "              \"2.0\": \"Main school\",\n",
    "              \"3.0\": \"Middle school\",\n",
    "              \"4.0\": \"High school\",\n",
    "              \"5.0\": \"Integrated school\",\n",
    "              \"9.0\": \"Integrated school\",\n",
    "              \"10.0\": \"Middle school\",\n",
    "              \"11.0\": \"Main school\",\n",
    "              \"12.0\": \"Middle school\",\n",
    "              \"14.0\": \"Vocational preparation\",\n",
    "              \"15.0\": \"Vocational school\",\n",
    "              \"16.0\": \"Vocational college\"\n",
    "             }\n",
    "df_ger[\"school_type\"] = df_ger[\"school_type\"].replace(school_map)"
   ]
  },
  {
   "cell_type": "code",
   "execution_count": 197,
   "metadata": {},
   "outputs": [
    {
     "data": {
      "text/plain": [
       "['Middle school', 'Integrated school', 'High school', 'Special school', 'Main school', 'Vocational school', 'Vocational college', 'Vocational preparation']\n",
       "Categories (8, object): ['Special school' < 'Main school' < 'Middle school' < 'Integrated school' < 'High school' < 'Vocational preparation' < 'Vocational school' < 'Vocational college']"
      ]
     },
     "execution_count": 197,
     "metadata": {},
     "output_type": "execute_result"
    }
   ],
   "source": [
    "df_ger[\"school_type\"].unique()"
   ]
  },
  {
   "cell_type": "markdown",
   "metadata": {},
   "source": [
    "#### Add speaking family structure values"
   ]
  },
  {
   "cell_type": "code",
   "execution_count": 132,
   "metadata": {},
   "outputs": [],
   "source": [
    "family_structure_map = {1.0: \"Single father/mother\",\n",
    "                       2.0: \"Both parents\",\n",
    "                       3.0: \"Other\"}\n",
    "\n",
    "df_ger[\"family_structure\"] = df_ger[\"family_structure\"].replace(family_structure_map)"
   ]
  },
  {
   "cell_type": "code",
   "execution_count": 196,
   "metadata": {},
   "outputs": [
    {
     "data": {
      "text/plain": [
       "['Single father/mother', 'Both parents', 'Other']\n",
       "Categories (3, object): ['Both parents' < 'Single father/mother' < 'Other']"
      ]
     },
     "execution_count": 196,
     "metadata": {},
     "output_type": "execute_result"
    }
   ],
   "source": [
    "df_ger.family_structure.unique()"
   ]
  },
  {
   "cell_type": "markdown",
   "metadata": {},
   "source": [
    "#### Set category datatypes"
   ]
  },
  {
   "cell_type": "markdown",
   "metadata": {},
   "source": [
    "Several features can be represented as categories while currently being formatted as strings. I will change this accordingly."
   ]
  },
  {
   "cell_type": "code",
   "execution_count": 154,
   "metadata": {},
   "outputs": [],
   "source": [
    "family_categories = pd.api.types.CategoricalDtype(categories=[\"Both parents\", \"Single father/mother\", \"Other\"], \n",
    "                                                                 ordered=True)\n",
    "df_ger[\"family_structure\"] = df_ger[\"family_structure\"].astype(family_categories)\n",
    "\n",
    "gender_categories = pd.api.types.CategoricalDtype(categories=[\"Female\", \"Male\"], ordered=False)\n",
    "df_ger[\"gender\"] = df_ger[\"gender\"].astype(gender_categories)\n",
    "\n",
    "school_categories = pd.api.types.CategoricalDtype(categories=[\"Special school\", \"Main school\", \"Middle school\", \n",
    "                                                                        \"Integrated school\", \"High school\", \n",
    "                                                                        \"Vocational preparation\", \n",
    "                                                                        \"Vocational school\", \"Vocational college\"],\n",
    "                                                            ordered=True)\n",
    "df_ger[\"school_type\"] = df_ger[\"school_type\"].astype(school_categories)\n",
    "\n",
    "immigration_categories = pd.api.types.CategoricalDtype(categories=[\"Native\", \"Second-Generation\", \"First-Generation\"], \n",
    "                                                                 ordered=True)\n",
    "df_ger[\"immigration_status\"] = df_ger[\"immigration_status\"].astype(immigration_categories)\n",
    "\n",
    "education_categories = pd.api.types.CategoricalDtype(categories=['ISCED 5B', 'ISCED 5A, 6', 'ISCED 3B, C',\n",
    "       'ISCED 3A, ISCED 4', 'ISCED 2', 'ISCED 1', 'None'], ordered=True)\n",
    "df_ger[\"education_father\"] = df_ger[\"education_father\"].astype(education_categories)\n",
    "df_ger[\"education_mother\"] = df_ger[\"education_mother\"].astype(education_categories)\n",
    "df_ger[\"education_parents\"] = df_ger[\"education_parents\"].astype(education_categories)\n"
   ]
  },
  {
   "cell_type": "code",
   "execution_count": 198,
   "metadata": {},
   "outputs": [
    {
     "data": {
      "text/plain": [
       "country                 object\n",
       "gender                category\n",
       "school_type           category\n",
       "math_score             float64\n",
       "reading_score          float64\n",
       "science_score          float64\n",
       "education_father      category\n",
       "education_mother      category\n",
       "education_parents     category\n",
       "family_structure      category\n",
       "immigration_status    category\n",
       "dtype: object"
      ]
     },
     "execution_count": 198,
     "metadata": {},
     "output_type": "execute_result"
    }
   ],
   "source": [
    "df_ger.dtypes"
   ]
  },
  {
   "cell_type": "markdown",
   "metadata": {},
   "source": [
    "## Univariate Exploration\n",
    "\n",
    "> In this section, investigate distributions of individual variables. If\n",
    "you see unusual points or outliers, take a deeper look to clean things up\n",
    "and prepare yourself to look at relationships between variables."
   ]
  },
  {
   "cell_type": "markdown",
   "metadata": {},
   "source": [
    "### Gender distribution"
   ]
  },
  {
   "cell_type": "code",
   "execution_count": 202,
   "metadata": {},
   "outputs": [
    {
     "data": {
      "text/plain": [
       "Female    1616\n",
       "Male      1581\n",
       "Name: gender, dtype: int64"
      ]
     },
     "execution_count": 202,
     "metadata": {},
     "output_type": "execute_result"
    }
   ],
   "source": [
    "by_gender = df_ger.gender.value_counts()\n",
    "by_gender"
   ]
  },
  {
   "cell_type": "code",
   "execution_count": 222,
   "metadata": {},
   "outputs": [
    {
     "data": {
      "text/plain": [
       "([<matplotlib.patches.Wedge at 0x237377ce2b0>,\n",
       "  <matplotlib.patches.Wedge at 0x237377ce978>],\n",
       " [Text(-1.1098358774890296, -0.019087300441812127, 'Female'),\n",
       "  Text(1.1098358792761067, 0.019087196531477387, 'Male')],\n",
       " [Text(-0.6099098065480252, -0.010489417359914772, '50.5%'),\n",
       "  Text(0.6099098075301126, 0.010489360256037122, '49.5%')])"
      ]
     },
     "execution_count": 222,
     "metadata": {},
     "output_type": "execute_result"
    },
    {
     "data": {
      "image/png": "[encoded data removed]",
      "text/plain": [
       "<Figure size 576x576 with 1 Axes>"
      ]
     },
     "metadata": {},
     "output_type": "display_data"
    }
   ],
   "source": [
    "plt.figure(figsize=(8,8))\n",
    "explode = (0.01, 0.01)\n",
    "plt.pie(by_gender.values, explode = explode, labels = by_gender.index, autopct='%1.1f%%', startangle=90)"
   ]
  },
  {
   "cell_type": "markdown",
   "metadata": {},
   "source": [
    "> The dataset contains approximately equal number of male and female students."
   ]
  },
  {
   "cell_type": "markdown",
   "metadata": {},
   "source": [
    "### Test scores of students"
   ]
  },
  {
   "cell_type": "code",
   "execution_count": 138,
   "metadata": {},
   "outputs": [
    {
     "data": {
      "text/html": [
       "<div>\n",
       "<style scoped>\n",
       "    .dataframe tbody tr th:only-of-type {\n",
       "        vertical-align: middle;\n",
       "    }\n",
       "\n",
       "    .dataframe tbody tr th {\n",
       "        vertical-align: top;\n",
       "    }\n",
       "\n",
       "    .dataframe thead th {\n",
       "        text-align: right;\n",
       "    }\n",
       "</style>\n",
       "<table border=\"1\" class=\"dataframe\">\n",
       "  <thead>\n",
       "    <tr style=\"text-align: right;\">\n",
       "      <th></th>\n",
       "      <th>math_score</th>\n",
       "      <th>science_score</th>\n",
       "      <th>reading_score</th>\n",
       "    </tr>\n",
       "  </thead>\n",
       "  <tbody>\n",
       "    <tr>\n",
       "      <th>count</th>\n",
       "      <td>3197.000000</td>\n",
       "      <td>3197.000000</td>\n",
       "      <td>3197.000000</td>\n",
       "    </tr>\n",
       "    <tr>\n",
       "      <th>mean</th>\n",
       "      <td>534.168330</td>\n",
       "      <td>544.606399</td>\n",
       "      <td>528.700826</td>\n",
       "    </tr>\n",
       "    <tr>\n",
       "      <th>std</th>\n",
       "      <td>92.915377</td>\n",
       "      <td>89.706077</td>\n",
       "      <td>84.881648</td>\n",
       "    </tr>\n",
       "    <tr>\n",
       "      <th>min</th>\n",
       "      <td>224.887100</td>\n",
       "      <td>202.107400</td>\n",
       "      <td>246.178900</td>\n",
       "    </tr>\n",
       "    <tr>\n",
       "      <th>25%</th>\n",
       "      <td>472.121800</td>\n",
       "      <td>485.863500</td>\n",
       "      <td>473.809900</td>\n",
       "    </tr>\n",
       "    <tr>\n",
       "      <th>50%</th>\n",
       "      <td>539.499900</td>\n",
       "      <td>552.722900</td>\n",
       "      <td>536.560400</td>\n",
       "    </tr>\n",
       "    <tr>\n",
       "      <th>75%</th>\n",
       "      <td>600.412800</td>\n",
       "      <td>607.926100</td>\n",
       "      <td>590.573500</td>\n",
       "    </tr>\n",
       "    <tr>\n",
       "      <th>max</th>\n",
       "      <td>797.016700</td>\n",
       "      <td>782.114900</td>\n",
       "      <td>753.883700</td>\n",
       "    </tr>\n",
       "  </tbody>\n",
       "</table>\n",
       "</div>"
      ],
      "text/plain": [
       "        math_score  science_score  reading_score\n",
       "count  3197.000000    3197.000000    3197.000000\n",
       "mean    534.168330     544.606399     528.700826\n",
       "std      92.915377      89.706077      84.881648\n",
       "min     224.887100     202.107400     246.178900\n",
       "25%     472.121800     485.863500     473.809900\n",
       "50%     539.499900     552.722900     536.560400\n",
       "75%     600.412800     607.926100     590.573500\n",
       "max     797.016700     782.114900     753.883700"
      ]
     },
     "execution_count": 138,
     "metadata": {},
     "output_type": "execute_result"
    }
   ],
   "source": [
    "df_ger[[\"math_score\", \"science_score\", \"reading_score\"]].describe()"
   ]
  },
  {
   "cell_type": "code",
   "execution_count": 237,
   "metadata": {},
   "outputs": [
    {
     "data": {
      "text/plain": [
       "Text(0.5, 0.98, 'Score distribution per discipline')"
      ]
     },
     "execution_count": 237,
     "metadata": {},
     "output_type": "execute_result"
    },
    {
     "data": {
      "image/png": "[encoded data removed]",
      "text/plain": [
       "<Figure size 1080x360 with 3 Axes>"
      ]
     },
     "metadata": {
      "needs_background": "light"
     },
     "output_type": "display_data"
    }
   ],
   "source": [
    "fig, axes = plt.subplots(1, 3, figsize=(15, 5), sharex=True)\n",
    "\n",
    "sb.histplot(df_ger['math_score'], ax=axes[0], bins=12)\n",
    "sb.histplot(df_ger['reading_score'], ax=axes[1], bins=12)\n",
    "sb.histplot(df_ger['science_score'], ax=axes[2], bins=12)\n",
    "plt.suptitle('Score distribution per discipline')"
   ]
  },
  {
   "cell_type": "markdown",
   "metadata": {},
   "source": [
    "All scores - `math_score`, `reading_score` and `science_score` -  are approximately normal distributed and centered arount 500. Most students score between 300 and 750 on each test. On average, students tend to perform slightly better (arount 20 points) on the `science_score` compared to reading and mathmatics."
   ]
  },
  {
   "cell_type": "code",
   "execution_count": 140,
   "metadata": {},
   "outputs": [
    {
     "data": {
      "text/plain": [
       "Special school              54\n",
       "Main school                271\n",
       "Middle school             1067\n",
       "Integrated school          342\n",
       "High school               1404\n",
       "Vocational preparation      13\n",
       "Vocational school           20\n",
       "Vocational college          26\n",
       "Name: school_type, dtype: int64"
      ]
     },
     "execution_count": 140,
     "metadata": {},
     "output_type": "execute_result"
    }
   ],
   "source": [
    "df_ger.school_type.value_counts().sort_index()"
   ]
  },
  {
   "cell_type": "code",
   "execution_count": 168,
   "metadata": {},
   "outputs": [
    {
     "data": {
      "text/plain": [
       "Native               2902\n",
       "Second-Generation     249\n",
       "First-Generation       46\n",
       "Name: immigration_status, dtype: int64"
      ]
     },
     "execution_count": 168,
     "metadata": {},
     "output_type": "execute_result"
    }
   ],
   "source": [
    "immi_counts = df_ger.immigration_status.value_counts()\n",
    "immi_counts"
   ]
  },
  {
   "cell_type": "code",
   "execution_count": 191,
   "metadata": {},
   "outputs": [
    {
     "ename": "AttributeError",
     "evalue": "'AxesSubplot' object has no attribute 'bar_label'",
     "output_type": "error",
     "traceback": [
      "\u001b[1;31m---------------------------------------------------------------------------\u001b[0m",
      "\u001b[1;31mAttributeError\u001b[0m                            Traceback (most recent call last)",
      "\u001b[1;32m<ipython-input-191-936c5fd69cf5>\u001b[0m in \u001b[0;36m<module>\u001b[1;34m\u001b[0m\n\u001b[0;32m      1\u001b[0m \u001b[0mfig\u001b[0m\u001b[1;33m,\u001b[0m \u001b[0max\u001b[0m \u001b[1;33m=\u001b[0m \u001b[0mplt\u001b[0m\u001b[1;33m.\u001b[0m\u001b[0msubplots\u001b[0m\u001b[1;33m(\u001b[0m\u001b[1;33m)\u001b[0m\u001b[1;33m\u001b[0m\u001b[1;33m\u001b[0m\u001b[0m\n\u001b[0;32m      2\u001b[0m \u001b[0mbars\u001b[0m \u001b[1;33m=\u001b[0m \u001b[0mplt\u001b[0m\u001b[1;33m.\u001b[0m\u001b[0mbar\u001b[0m\u001b[1;33m(\u001b[0m\u001b[0mimmi_counts\u001b[0m\u001b[1;33m.\u001b[0m\u001b[0mindex\u001b[0m\u001b[1;33m,\u001b[0m \u001b[0mimmi_counts\u001b[0m\u001b[1;33m.\u001b[0m\u001b[0mvalues\u001b[0m\u001b[1;33m)\u001b[0m\u001b[1;33m\u001b[0m\u001b[1;33m\u001b[0m\u001b[0m\n\u001b[1;32m----> 3\u001b[1;33m \u001b[0max\u001b[0m\u001b[1;33m.\u001b[0m\u001b[0mbar_label\u001b[0m\u001b[1;33m(\u001b[0m\u001b[0mbars\u001b[0m\u001b[1;33m,\u001b[0m \u001b[0mpadding\u001b[0m\u001b[1;33m=\u001b[0m\u001b[1;36m3\u001b[0m\u001b[1;33m)\u001b[0m\u001b[1;33m\u001b[0m\u001b[1;33m\u001b[0m\u001b[0m\n\u001b[0m",
      "\u001b[1;31mAttributeError\u001b[0m: 'AxesSubplot' object has no attribute 'bar_label'"
     ]
    },
    {
     "data": {
      "image/png": "[encoded data removed]",
      "text/plain": [
       "<Figure size 432x288 with 1 Axes>"
      ]
     },
     "metadata": {
      "needs_background": "light"
     },
     "output_type": "display_data"
    }
   ],
   "source": [
    "fig, ax = plt.subplots()\n",
    "bars = plt.bar(immi_counts.index, immi_counts.values)\n",
    "ax.bar_label(bars, padding=3)"
   ]
  },
  {
   "cell_type": "code",
   "execution_count": 190,
   "metadata": {},
   "outputs": [
    {
     "ename": "NameError",
     "evalue": "name 'data' is not defined",
     "output_type": "error",
     "traceback": [
      "\u001b[1;31m---------------------------------------------------------------------------\u001b[0m",
      "\u001b[1;31mNameError\u001b[0m                                 Traceback (most recent call last)",
      "\u001b[1;32m<ipython-input-190-f7b6600c4cfd>\u001b[0m in \u001b[0;36m<module>\u001b[1;34m\u001b[0m\n\u001b[1;32m----> 1\u001b[1;33m \u001b[0mplt\u001b[0m\u001b[1;33m.\u001b[0m\u001b[0mhist\u001b[0m\u001b[1;33m(\u001b[0m\u001b[0mdata\u001b[0m\u001b[1;33m)\u001b[0m\u001b[1;33m\u001b[0m\u001b[1;33m\u001b[0m\u001b[0m\n\u001b[0m",
      "\u001b[1;31mNameError\u001b[0m: name 'data' is not defined"
     ]
    }
   ],
   "source": [
    "plt.hist(data)"
   ]
  },
  {
   "cell_type": "code",
   "execution_count": 218,
   "metadata": {},
   "outputs": [
    {
     "data": {
      "text/plain": [
       "Text(0.5, 1.0, 'Distribution of student school types in Germany for PISA 2021 survey')"
      ]
     },
     "execution_count": 218,
     "metadata": {},
     "output_type": "execute_result"
    },
    {
     "data": {
      "image/png": "[encoded data removed]",
      "text/plain": [
       "<Figure size 720x432 with 1 Axes>"
      ]
     },
     "metadata": {
      "needs_background": "light"
     },
     "output_type": "display_data"
    }
   ],
   "source": [
    "order = df_ger['school_type'].value_counts().index\n",
    "plt.figure(figsize=(10,6))\n",
    "sb.countplot(data=df_ger,y='school_type',order=order, color=color)\n",
    "plt.ylabel(\"School type\")\n",
    "plt.title(\"Distribution of student school types in Germany for PISA 2021 survey\")"
   ]
  },
  {
   "cell_type": "markdown",
   "metadata": {},
   "source": [
    "### Discuss the distribution(s) of your variable(s) of interest. Were there any unusual points? Did you need to perform any transformations?\n",
    "\n",
    "> Your answer here!\n",
    "\n",
    "### Of the features you investigated, were there any unusual distributions? Did you perform any operations on the data to tidy, adjust, or change the form of the data? If so, why did you do this?\n",
    "\n",
    "> Your answer here!"
   ]
  },
  {
   "cell_type": "markdown",
   "metadata": {},
   "source": [
    "## Bivariate Exploration\n",
    "\n",
    "> In this section, investigate relationships between pairs of variables in your\n",
    "data. Make sure the variables that you cover here have been introduced in some\n",
    "fashion in the previous section (univariate exploration)."
   ]
  },
  {
   "cell_type": "code",
   "execution_count": null,
   "metadata": {},
   "outputs": [],
   "source": []
  },
  {
   "cell_type": "markdown",
   "metadata": {},
   "source": [
    "### Talk about some of the relationships you observed in this part of the investigation. How did the feature(s) of interest vary with other features in the dataset?\n",
    "\n",
    "> Your answer here!\n",
    "\n",
    "### Did you observe any interesting relationships between the other features (not the main feature(s) of interest)?\n",
    "\n",
    "> Your answer here!"
   ]
  },
  {
   "cell_type": "markdown",
   "metadata": {},
   "source": [
    "## Multivariate Exploration\n",
    "\n",
    "> Create plots of three or more variables to investigate your data even\n",
    "further. Make sure that your investigations are justified, and follow from\n",
    "your work in the previous sections."
   ]
  },
  {
   "cell_type": "code",
   "execution_count": null,
   "metadata": {},
   "outputs": [],
   "source": []
  },
  {
   "cell_type": "markdown",
   "metadata": {},
   "source": [
    "### Talk about some of the relationships you observed in this part of the investigation. Were there features that strengthened each other in terms of looking at your feature(s) of interest?\n",
    "\n",
    "> Your answer here!\n",
    "\n",
    "### Were there any interesting or surprising interactions between features?\n",
    "\n",
    "> Your answer here!"
   ]
  },
  {
   "cell_type": "markdown",
   "metadata": {},
   "source": [
    "> At the end of your report, make sure that you export the notebook as an\n",
    "html file from the `File > Download as... > HTML` menu. Make sure you keep\n",
    "track of where the exported file goes, so you can put it in the same folder\n",
    "as this notebook for project submission. Also, make sure you remove all of\n",
    "the quote-formatted guide notes like this one before you finish your report!"
   ]
  },
  {
   "cell_type": "code",
   "execution_count": null,
   "metadata": {},
   "outputs": [],
   "source": []
  }
 ],
 "metadata": {
  "kernelspec": {
   "display_name": "Python 3",
   "language": "python",
   "name": "python3"
  },
  "language_info": {
   "codemirror_mode": {
    "name": "ipython",
    "version": 3
   },
   "file_extension": ".py",
   "mimetype": "text/x-python",
   "name": "python",
   "nbconvert_exporter": "python",
   "pygments_lexer": "ipython3",
   "version": "3.6.13"
  }
 },
 "nbformat": 4,
 "nbformat_minor": 2
}
